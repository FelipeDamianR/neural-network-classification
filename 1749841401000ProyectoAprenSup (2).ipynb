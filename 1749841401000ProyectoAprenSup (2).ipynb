{
  "nbformat": 4,
  "nbformat_minor": 0,
  "metadata": {
    "colab": {
      "provenance": [],
      "gpuType": "T4"
    },
    "kernelspec": {
      "name": "python3",
      "display_name": "Python 3"
    },
    "language_info": {
      "name": "python"
    },
    "accelerator": "GPU"
  },
  "cells": [
    {
      "cell_type": "markdown",
      "source": [
        "# Introducción y Contexto"
      ],
      "metadata": {
        "id": "kW35FYVY8D3f"
      }
    },
    {
      "cell_type": "markdown",
      "source": [
        "## Proyecto Aprendizaje Supervisado\n",
        "\n",
        "Humberto Mondragón García A01711912 \\\n",
        "Gabriela Marissa Mosquera A01666191 \\\n",
        "Felipe de Jesús Damián Rodríguez A01707246"
      ],
      "metadata": {
        "id": "DTaj7IT_-eXC"
      }
    },
    {
      "cell_type": "markdown",
      "source": [
        "La agricultura es un pilar fundamental para la economía y la seguridad alimentaria de México. La capacidad de predecir el rendimiento de los cultivos con precisión es crucial para la planificación estratégica, la gestión de recursos y la toma de decisiones tanto en el sector público como en el privado. Modelos predictivos robustos pueden ayudar a los agricultores a optimizar sus prácticas, a los gobiernos a diseñar políticas de apoyo efectivas y a los mercados a anticipar la oferta y la demanda.\n",
        "\n",
        "Este proyecto tiene como objetivo principal encontrar los mejores modelos de aprendizaje supervisado para predecir el rendimiento de cultivos en el territorio mexicano. Para lograrlo, se utilizará un conjunto de datos públicos proporcionado por el Gobierno de México, que contiene registros detallados de la producción agrícola nacional."
      ],
      "metadata": {
        "id": "rA3jK-bP_GuQ"
      }
    },
    {
      "cell_type": "markdown",
      "source": [
        "### Definición del Problema\n",
        "\n",
        "\n",
        "El desafío central es un problema de regresión, donde se busca predecir una variable numérica continua.\n",
        "\n",
        "Variable Objetivo: La variable a predecir es el Rendimiento, que mide la productividad de un cultivo, comúnmente en toneladas por hectárea.\n",
        "\n",
        "Variables Predictoras: Se utilizarán características como el año de la cosecha, el estado de la república, el ciclo productivo (ej. Primavera-Verano), la modalidad (Riego o Temporal) y, por supuesto, el tipo de cultivo.\n",
        "\n",
        "El estudio se concentrará en 10 cultivos de gran importancia para México: \\\n",
        "Maíz grano \\\n",
        "Frijol \\\n",
        "Pastos y praderas \\\n",
        "Avena forrajera en verde \\\n",
        "Sorgo grano \\\n",
        "Tomate rojo (jitomate) \\\n",
        "Chile verde \\\n",
        "Tomate verde \\\n",
        "Calabacita \\\n",
        "Trigo grano \\\n",
        "\n",
        "A través de la exploración y comparación de diferentes algoritmos de machine learning, este proyecto buscará entregar un modelo confiable y preciso que aporte valor al análisis de la productividad agrícola del país."
      ],
      "metadata": {
        "id": "7y2lL7qC_eAl"
      }
    },
    {
      "cell_type": "markdown",
      "source": [
        "# Preprocesamiento de los datos"
      ],
      "metadata": {
        "id": "jb7FKQa50SmP"
      }
    },
    {
      "cell_type": "markdown",
      "source": [
        "Antes de poder entrenar cualquier modelo de aprendizaje automático, es fundamental preparar y limpiar los datos. Esta fase, es uno de los pasos más críticos en un proyecto de ciencia de datos, ya que la calidad del modelo final depende directamente de la calidad de los datos con los que se alimenta.\n",
        "\n",
        "En esta sección, se llevarán a cabo varias tareas esenciales de limpieza y transformación. Se comenzará cargando el conjunto de datos para una inspección inicial. A continuación, se abordará el problema de los valores nulos y se eliminarán columnas que no aportan información relevante para nuestro objetivo. Finalmente, se asegurará que todas las variables tengan el tipo de dato correcto y se transformarán las variables categóricas (como el nombre del estado o del cultivo) a un formato numérico que los algoritmos puedan procesar.\n"
      ],
      "metadata": {
        "id": "yV5V9lHScSxk"
      }
    },
    {
      "cell_type": "markdown",
      "source": [
        "### Importar librerías\n",
        "\n",
        "Para comenzar nuestro análisis, el primer paso es importar todas las librerías de Python que utilizaremos a lo largo del proyecto. Estas librerías nos proporcionarán las herramientas necesarias para la manipulación de datos, la visualización y la construcción de nuestros modelos de aprendizaje automático.\n",
        "\n",
        "*pandas y numpy:* Son la base para la manipulación y el análisis de datos. pandas nos permite trabajar con estructuras de datos llamadas DataFrames, y numpy nos da soporte para operaciones numéricas eficientes.\n",
        "\n",
        "*matplotlib.pyplot:* Es nuestra herramienta principal para crear visualizaciones estáticas, como gráficos y diagramas, que nos ayudarán a entender mejor los datos.\n",
        "*sklearn (Scikit-learn):* Es la librería central de machine learning. De aquí importaremos módulos para:\n",
        "\n",
        "\n",
        "*   Dividir nuestros datos en conjuntos de entrenamiento y prueba (model_selection).\n",
        "*   Implementar los algoritmos de regresión (como DecisionTreeRegressor, KNeighborsRegressor, Ridge y Lasso).\n",
        "* Preprocesar los datos (StandardScaler).\n",
        "* Evaluar el rendimiento de los modelos (metrics).\n",
        "\n",
        "torch: Es el framework de deep learning que usaremos para construir, entrenar y evaluar nuestra red neuronal.\n"
      ],
      "metadata": {
        "id": "5SDT2FxIBg3_"
      }
    },
    {
      "cell_type": "code",
      "execution_count": 3,
      "metadata": {
        "id": "i8blCliNbyP0"
      },
      "outputs": [],
      "source": [
        "import pandas as pd\n",
        "import numpy as np\n",
        "import matplotlib.pyplot as plt\n",
        "from sklearn.preprocessing import scale\n",
        "from sklearn.model_selection import train_test_split\n",
        "from sklearn.linear_model import Ridge, RidgeCV, Lasso, LassoCV\n",
        "from sklearn.metrics import mean_squared_error, mean_absolute_error, r2_score\n",
        "from sklearn.linear_model import LinearRegression\n",
        "import random\n",
        "from sklearn.neighbors import KNeighborsRegressor\n",
        "from sklearn.tree import DecisionTreeRegressor\n",
        "from sklearn.preprocessing import StandardScaler\n",
        "import torch\n",
        "import torch.nn as nn\n",
        "import torch.nn.functional as F\n",
        "import torch.utils.data\n",
        "from torch.utils.data import DataLoader\n",
        "from torch.utils.data import TensorDataset"
      ]
    },
    {
      "cell_type": "markdown",
      "source": [
        "### Carga de Datos\n",
        "\n",
        "El primer paso en nuestro preprocesamiento es cargar el conjunto de datos en memoria. Para ello, utilizamos la función read_csv de la librería pandas, que es la herramienta estándar para leer archivos de formato CSV y convertirlos en un DataFrame.\n",
        "\n",
        "El archivo Agromex_seleccionado.csv contiene todos los registros de producción agrícola que analizaremos. Estos datos se almacenan en un DataFrame llamado df, que es la estructura fundamental sobre la cual realizaremos todas las operaciones de limpieza y transformación."
      ],
      "metadata": {
        "id": "EISB2l_1DaAz"
      }
    },
    {
      "cell_type": "code",
      "source": [
        "df = pd.read_csv('Agromex_seleccionado.csv')"
      ],
      "metadata": {
        "colab": {
          "base_uri": "https://localhost:8080/",
          "height": 0
        },
        "id": "WyiJhDacmveS",
        "outputId": "47b81c6b-a7fd-4250-e15c-81d02233145f"
      },
      "execution_count": 2,
      "outputs": [
        {
          "output_type": "stream",
          "name": "stderr",
          "text": [
            "<ipython-input-2-1845607390>:1: DtypeWarning: Columns (13,17,19,21) have mixed types. Specify dtype option on import or set low_memory=False.\n",
            "  df = pd.read_csv('Agromex_seleccionado.csv')\n"
          ]
        }
      ]
    },
    {
      "cell_type": "markdown",
      "source": [
        "`f.info():` Nos proporciona un resumen técnico del DataFrame. Con este comando podemos ver el número total de filas y columnas, el tipo de dato de cada columna y la cantidad de valores no nulos.\n",
        "\n",
        "`df.head():` Nos muestra las primeras cinco filas del DataFrame. Esto nos da una vista previa rápida de los datos reales, permitiéndonos ver ejemplos concretos de los valores en cada columna y familiarizarnos con el conjunto de datos."
      ],
      "metadata": {
        "id": "HtpUJVluDuop"
      }
    },
    {
      "cell_type": "code",
      "source": [
        "df.info()\n",
        "df.head()"
      ],
      "metadata": {
        "colab": {
          "base_uri": "https://localhost:8080/",
          "height": 863
        },
        "id": "g-nllfdmcfa-",
        "outputId": "9050cfc2-7435-4c43-c848-8c8aaa1ba480"
      },
      "execution_count": 3,
      "outputs": [
        {
          "output_type": "stream",
          "name": "stdout",
          "text": [
            "<class 'pandas.core.frame.DataFrame'>\n",
            "RangeIndex: 229965 entries, 0 to 229964\n",
            "Data columns (total 24 columns):\n",
            " #   Column              Non-Null Count   Dtype  \n",
            "---  ------              --------------   -----  \n",
            " 0   Anio                229965 non-null  int64  \n",
            " 1   Idestado            229965 non-null  int64  \n",
            " 2   Nomestado           229965 non-null  object \n",
            " 3   Idciclo             229965 non-null  int64  \n",
            " 4   Nomcicloproductivo  229965 non-null  object \n",
            " 5   Idmodalidad         229965 non-null  int64  \n",
            " 6   Nommodalidad        229965 non-null  object \n",
            " 7   Idunidadmedida      229965 non-null  int64  \n",
            " 8   Nomunidad           229965 non-null  object \n",
            " 9   Idcultivo           229965 non-null  int64  \n",
            " 10  Nomcultivo          229965 non-null  object \n",
            " 11  Cosechada           229965 non-null  float64\n",
            " 12  Siniestrada         229965 non-null  float64\n",
            " 13  Rendimiento         229965 non-null  object \n",
            " 14  Precio              200108 non-null  float64\n",
            " 15  Valorproduccion     229965 non-null  float64\n",
            " 16  Idddr               213864 non-null  float64\n",
            " 17  Nomddr              213864 non-null  object \n",
            " 18  Idcader             213864 non-null  float64\n",
            " 19  Nomcader            213864 non-null  object \n",
            " 20  Idmunicipio         213864 non-null  float64\n",
            " 21  Nommunicipio        213864 non-null  object \n",
            " 22  Nomcultivo Sin Um   0 non-null       float64\n",
            " 23  Preciomediorural    29857 non-null   float64\n",
            "dtypes: float64(9), int64(6), object(9)\n",
            "memory usage: 42.1+ MB\n"
          ]
        },
        {
          "output_type": "execute_result",
          "data": {
            "text/plain": [
              "   Anio  Idestado        Nomestado  Idciclo Nomcicloproductivo  Idmodalidad  \\\n",
              "0  2022        18          Nayarit        2   Primavera-Verano            2   \n",
              "1  2022         8        Chihuahua        2   Primavera-Verano            1   \n",
              "2  2022        26           Sonora        2   Primavera-Verano            1   \n",
              "3  2021         2  Baja California        1     Otoño-Invierno            2   \n",
              "4  2022         2  Baja California        2   Primavera-Verano            1   \n",
              "\n",
              "  Nommodalidad  Idunidadmedida Nomunidad  Idcultivo  ... Precio  \\\n",
              "0     Temporal          200201  Tonelada    7490000  ...    NaN   \n",
              "1        Riego          200201  Tonelada    8810000  ...    NaN   \n",
              "2        Riego          200201  Tonelada    7490000  ...    NaN   \n",
              "3     Temporal          200201  Tonelada    9050000  ...    NaN   \n",
              "4        Riego          200201  Tonelada    6840000  ...    NaN   \n",
              "\n",
              "   Valorproduccion  Idddr        Nomddr  Idcader       Nomcader  Idmunicipio  \\\n",
              "0              0.0   98.0     Acaponeta      1.0      Acaponeta          1.0   \n",
              "1              0.0   30.0     El Carmen      2.0  Villa Ahumada          1.0   \n",
              "2              0.0  142.0          Ures      2.0      Banámichi          1.0   \n",
              "3              0.0    2.0      Ensenada      4.0    San Quintín          1.0   \n",
              "4              0.0    3.0  Río Colorado      1.0      Hechicera          2.0   \n",
              "\n",
              "  Nommunicipio  Nomcultivo Sin Um Preciomediorural  \n",
              "0    Acaponeta                NaN              0.0  \n",
              "1      Ahumada                NaN              0.0  \n",
              "2      Aconchi                NaN              0.0  \n",
              "3     Ensenada                NaN              0.0  \n",
              "4     Mexicali                NaN              0.0  \n",
              "\n",
              "[5 rows x 24 columns]"
            ],
            "text/html": [
              "\n",
              "  <div id=\"df-72bff387-dd94-4f43-b309-8ea8efe6bdb1\" class=\"colab-df-container\">\n",
              "    <div>\n",
              "<style scoped>\n",
              "    .dataframe tbody tr th:only-of-type {\n",
              "        vertical-align: middle;\n",
              "    }\n",
              "\n",
              "    .dataframe tbody tr th {\n",
              "        vertical-align: top;\n",
              "    }\n",
              "\n",
              "    .dataframe thead th {\n",
              "        text-align: right;\n",
              "    }\n",
              "</style>\n",
              "<table border=\"1\" class=\"dataframe\">\n",
              "  <thead>\n",
              "    <tr style=\"text-align: right;\">\n",
              "      <th></th>\n",
              "      <th>Anio</th>\n",
              "      <th>Idestado</th>\n",
              "      <th>Nomestado</th>\n",
              "      <th>Idciclo</th>\n",
              "      <th>Nomcicloproductivo</th>\n",
              "      <th>Idmodalidad</th>\n",
              "      <th>Nommodalidad</th>\n",
              "      <th>Idunidadmedida</th>\n",
              "      <th>Nomunidad</th>\n",
              "      <th>Idcultivo</th>\n",
              "      <th>...</th>\n",
              "      <th>Precio</th>\n",
              "      <th>Valorproduccion</th>\n",
              "      <th>Idddr</th>\n",
              "      <th>Nomddr</th>\n",
              "      <th>Idcader</th>\n",
              "      <th>Nomcader</th>\n",
              "      <th>Idmunicipio</th>\n",
              "      <th>Nommunicipio</th>\n",
              "      <th>Nomcultivo Sin Um</th>\n",
              "      <th>Preciomediorural</th>\n",
              "    </tr>\n",
              "  </thead>\n",
              "  <tbody>\n",
              "    <tr>\n",
              "      <th>0</th>\n",
              "      <td>2022</td>\n",
              "      <td>18</td>\n",
              "      <td>Nayarit</td>\n",
              "      <td>2</td>\n",
              "      <td>Primavera-Verano</td>\n",
              "      <td>2</td>\n",
              "      <td>Temporal</td>\n",
              "      <td>200201</td>\n",
              "      <td>Tonelada</td>\n",
              "      <td>7490000</td>\n",
              "      <td>...</td>\n",
              "      <td>NaN</td>\n",
              "      <td>0.0</td>\n",
              "      <td>98.0</td>\n",
              "      <td>Acaponeta</td>\n",
              "      <td>1.0</td>\n",
              "      <td>Acaponeta</td>\n",
              "      <td>1.0</td>\n",
              "      <td>Acaponeta</td>\n",
              "      <td>NaN</td>\n",
              "      <td>0.0</td>\n",
              "    </tr>\n",
              "    <tr>\n",
              "      <th>1</th>\n",
              "      <td>2022</td>\n",
              "      <td>8</td>\n",
              "      <td>Chihuahua</td>\n",
              "      <td>2</td>\n",
              "      <td>Primavera-Verano</td>\n",
              "      <td>1</td>\n",
              "      <td>Riego</td>\n",
              "      <td>200201</td>\n",
              "      <td>Tonelada</td>\n",
              "      <td>8810000</td>\n",
              "      <td>...</td>\n",
              "      <td>NaN</td>\n",
              "      <td>0.0</td>\n",
              "      <td>30.0</td>\n",
              "      <td>El Carmen</td>\n",
              "      <td>2.0</td>\n",
              "      <td>Villa Ahumada</td>\n",
              "      <td>1.0</td>\n",
              "      <td>Ahumada</td>\n",
              "      <td>NaN</td>\n",
              "      <td>0.0</td>\n",
              "    </tr>\n",
              "    <tr>\n",
              "      <th>2</th>\n",
              "      <td>2022</td>\n",
              "      <td>26</td>\n",
              "      <td>Sonora</td>\n",
              "      <td>2</td>\n",
              "      <td>Primavera-Verano</td>\n",
              "      <td>1</td>\n",
              "      <td>Riego</td>\n",
              "      <td>200201</td>\n",
              "      <td>Tonelada</td>\n",
              "      <td>7490000</td>\n",
              "      <td>...</td>\n",
              "      <td>NaN</td>\n",
              "      <td>0.0</td>\n",
              "      <td>142.0</td>\n",
              "      <td>Ures</td>\n",
              "      <td>2.0</td>\n",
              "      <td>Banámichi</td>\n",
              "      <td>1.0</td>\n",
              "      <td>Aconchi</td>\n",
              "      <td>NaN</td>\n",
              "      <td>0.0</td>\n",
              "    </tr>\n",
              "    <tr>\n",
              "      <th>3</th>\n",
              "      <td>2021</td>\n",
              "      <td>2</td>\n",
              "      <td>Baja California</td>\n",
              "      <td>1</td>\n",
              "      <td>Otoño-Invierno</td>\n",
              "      <td>2</td>\n",
              "      <td>Temporal</td>\n",
              "      <td>200201</td>\n",
              "      <td>Tonelada</td>\n",
              "      <td>9050000</td>\n",
              "      <td>...</td>\n",
              "      <td>NaN</td>\n",
              "      <td>0.0</td>\n",
              "      <td>2.0</td>\n",
              "      <td>Ensenada</td>\n",
              "      <td>4.0</td>\n",
              "      <td>San Quintín</td>\n",
              "      <td>1.0</td>\n",
              "      <td>Ensenada</td>\n",
              "      <td>NaN</td>\n",
              "      <td>0.0</td>\n",
              "    </tr>\n",
              "    <tr>\n",
              "      <th>4</th>\n",
              "      <td>2022</td>\n",
              "      <td>2</td>\n",
              "      <td>Baja California</td>\n",
              "      <td>2</td>\n",
              "      <td>Primavera-Verano</td>\n",
              "      <td>1</td>\n",
              "      <td>Riego</td>\n",
              "      <td>200201</td>\n",
              "      <td>Tonelada</td>\n",
              "      <td>6840000</td>\n",
              "      <td>...</td>\n",
              "      <td>NaN</td>\n",
              "      <td>0.0</td>\n",
              "      <td>3.0</td>\n",
              "      <td>Río Colorado</td>\n",
              "      <td>1.0</td>\n",
              "      <td>Hechicera</td>\n",
              "      <td>2.0</td>\n",
              "      <td>Mexicali</td>\n",
              "      <td>NaN</td>\n",
              "      <td>0.0</td>\n",
              "    </tr>\n",
              "  </tbody>\n",
              "</table>\n",
              "<p>5 rows × 24 columns</p>\n",
              "</div>\n",
              "    <div class=\"colab-df-buttons\">\n",
              "\n",
              "  <div class=\"colab-df-container\">\n",
              "    <button class=\"colab-df-convert\" onclick=\"convertToInteractive('df-72bff387-dd94-4f43-b309-8ea8efe6bdb1')\"\n",
              "            title=\"Convert this dataframe to an interactive table.\"\n",
              "            style=\"display:none;\">\n",
              "\n",
              "  <svg xmlns=\"http://www.w3.org/2000/svg\" height=\"24px\" viewBox=\"0 -960 960 960\">\n",
              "    <path d=\"M120-120v-720h720v720H120Zm60-500h600v-160H180v160Zm220 220h160v-160H400v160Zm0 220h160v-160H400v160ZM180-400h160v-160H180v160Zm440 0h160v-160H620v160ZM180-180h160v-160H180v160Zm440 0h160v-160H620v160Z\"/>\n",
              "  </svg>\n",
              "    </button>\n",
              "\n",
              "  <style>\n",
              "    .colab-df-container {\n",
              "      display:flex;\n",
              "      gap: 12px;\n",
              "    }\n",
              "\n",
              "    .colab-df-convert {\n",
              "      background-color: #E8F0FE;\n",
              "      border: none;\n",
              "      border-radius: 50%;\n",
              "      cursor: pointer;\n",
              "      display: none;\n",
              "      fill: #1967D2;\n",
              "      height: 32px;\n",
              "      padding: 0 0 0 0;\n",
              "      width: 32px;\n",
              "    }\n",
              "\n",
              "    .colab-df-convert:hover {\n",
              "      background-color: #E2EBFA;\n",
              "      box-shadow: 0px 1px 2px rgba(60, 64, 67, 0.3), 0px 1px 3px 1px rgba(60, 64, 67, 0.15);\n",
              "      fill: #174EA6;\n",
              "    }\n",
              "\n",
              "    .colab-df-buttons div {\n",
              "      margin-bottom: 4px;\n",
              "    }\n",
              "\n",
              "    [theme=dark] .colab-df-convert {\n",
              "      background-color: #3B4455;\n",
              "      fill: #D2E3FC;\n",
              "    }\n",
              "\n",
              "    [theme=dark] .colab-df-convert:hover {\n",
              "      background-color: #434B5C;\n",
              "      box-shadow: 0px 1px 3px 1px rgba(0, 0, 0, 0.15);\n",
              "      filter: drop-shadow(0px 1px 2px rgba(0, 0, 0, 0.3));\n",
              "      fill: #FFFFFF;\n",
              "    }\n",
              "  </style>\n",
              "\n",
              "    <script>\n",
              "      const buttonEl =\n",
              "        document.querySelector('#df-72bff387-dd94-4f43-b309-8ea8efe6bdb1 button.colab-df-convert');\n",
              "      buttonEl.style.display =\n",
              "        google.colab.kernel.accessAllowed ? 'block' : 'none';\n",
              "\n",
              "      async function convertToInteractive(key) {\n",
              "        const element = document.querySelector('#df-72bff387-dd94-4f43-b309-8ea8efe6bdb1');\n",
              "        const dataTable =\n",
              "          await google.colab.kernel.invokeFunction('convertToInteractive',\n",
              "                                                    [key], {});\n",
              "        if (!dataTable) return;\n",
              "\n",
              "        const docLinkHtml = 'Like what you see? Visit the ' +\n",
              "          '<a target=\"_blank\" href=https://colab.research.google.com/notebooks/data_table.ipynb>data table notebook</a>'\n",
              "          + ' to learn more about interactive tables.';\n",
              "        element.innerHTML = '';\n",
              "        dataTable['output_type'] = 'display_data';\n",
              "        await google.colab.output.renderOutput(dataTable, element);\n",
              "        const docLink = document.createElement('div');\n",
              "        docLink.innerHTML = docLinkHtml;\n",
              "        element.appendChild(docLink);\n",
              "      }\n",
              "    </script>\n",
              "  </div>\n",
              "\n",
              "\n",
              "    <div id=\"df-07ebc42b-43d0-453e-a759-81cc226ee76d\">\n",
              "      <button class=\"colab-df-quickchart\" onclick=\"quickchart('df-07ebc42b-43d0-453e-a759-81cc226ee76d')\"\n",
              "                title=\"Suggest charts\"\n",
              "                style=\"display:none;\">\n",
              "\n",
              "<svg xmlns=\"http://www.w3.org/2000/svg\" height=\"24px\"viewBox=\"0 0 24 24\"\n",
              "     width=\"24px\">\n",
              "    <g>\n",
              "        <path d=\"M19 3H5c-1.1 0-2 .9-2 2v14c0 1.1.9 2 2 2h14c1.1 0 2-.9 2-2V5c0-1.1-.9-2-2-2zM9 17H7v-7h2v7zm4 0h-2V7h2v10zm4 0h-2v-4h2v4z\"/>\n",
              "    </g>\n",
              "</svg>\n",
              "      </button>\n",
              "\n",
              "<style>\n",
              "  .colab-df-quickchart {\n",
              "      --bg-color: #E8F0FE;\n",
              "      --fill-color: #1967D2;\n",
              "      --hover-bg-color: #E2EBFA;\n",
              "      --hover-fill-color: #174EA6;\n",
              "      --disabled-fill-color: #AAA;\n",
              "      --disabled-bg-color: #DDD;\n",
              "  }\n",
              "\n",
              "  [theme=dark] .colab-df-quickchart {\n",
              "      --bg-color: #3B4455;\n",
              "      --fill-color: #D2E3FC;\n",
              "      --hover-bg-color: #434B5C;\n",
              "      --hover-fill-color: #FFFFFF;\n",
              "      --disabled-bg-color: #3B4455;\n",
              "      --disabled-fill-color: #666;\n",
              "  }\n",
              "\n",
              "  .colab-df-quickchart {\n",
              "    background-color: var(--bg-color);\n",
              "    border: none;\n",
              "    border-radius: 50%;\n",
              "    cursor: pointer;\n",
              "    display: none;\n",
              "    fill: var(--fill-color);\n",
              "    height: 32px;\n",
              "    padding: 0;\n",
              "    width: 32px;\n",
              "  }\n",
              "\n",
              "  .colab-df-quickchart:hover {\n",
              "    background-color: var(--hover-bg-color);\n",
              "    box-shadow: 0 1px 2px rgba(60, 64, 67, 0.3), 0 1px 3px 1px rgba(60, 64, 67, 0.15);\n",
              "    fill: var(--button-hover-fill-color);\n",
              "  }\n",
              "\n",
              "  .colab-df-quickchart-complete:disabled,\n",
              "  .colab-df-quickchart-complete:disabled:hover {\n",
              "    background-color: var(--disabled-bg-color);\n",
              "    fill: var(--disabled-fill-color);\n",
              "    box-shadow: none;\n",
              "  }\n",
              "\n",
              "  .colab-df-spinner {\n",
              "    border: 2px solid var(--fill-color);\n",
              "    border-color: transparent;\n",
              "    border-bottom-color: var(--fill-color);\n",
              "    animation:\n",
              "      spin 1s steps(1) infinite;\n",
              "  }\n",
              "\n",
              "  @keyframes spin {\n",
              "    0% {\n",
              "      border-color: transparent;\n",
              "      border-bottom-color: var(--fill-color);\n",
              "      border-left-color: var(--fill-color);\n",
              "    }\n",
              "    20% {\n",
              "      border-color: transparent;\n",
              "      border-left-color: var(--fill-color);\n",
              "      border-top-color: var(--fill-color);\n",
              "    }\n",
              "    30% {\n",
              "      border-color: transparent;\n",
              "      border-left-color: var(--fill-color);\n",
              "      border-top-color: var(--fill-color);\n",
              "      border-right-color: var(--fill-color);\n",
              "    }\n",
              "    40% {\n",
              "      border-color: transparent;\n",
              "      border-right-color: var(--fill-color);\n",
              "      border-top-color: var(--fill-color);\n",
              "    }\n",
              "    60% {\n",
              "      border-color: transparent;\n",
              "      border-right-color: var(--fill-color);\n",
              "    }\n",
              "    80% {\n",
              "      border-color: transparent;\n",
              "      border-right-color: var(--fill-color);\n",
              "      border-bottom-color: var(--fill-color);\n",
              "    }\n",
              "    90% {\n",
              "      border-color: transparent;\n",
              "      border-bottom-color: var(--fill-color);\n",
              "    }\n",
              "  }\n",
              "</style>\n",
              "\n",
              "      <script>\n",
              "        async function quickchart(key) {\n",
              "          const quickchartButtonEl =\n",
              "            document.querySelector('#' + key + ' button');\n",
              "          quickchartButtonEl.disabled = true;  // To prevent multiple clicks.\n",
              "          quickchartButtonEl.classList.add('colab-df-spinner');\n",
              "          try {\n",
              "            const charts = await google.colab.kernel.invokeFunction(\n",
              "                'suggestCharts', [key], {});\n",
              "          } catch (error) {\n",
              "            console.error('Error during call to suggestCharts:', error);\n",
              "          }\n",
              "          quickchartButtonEl.classList.remove('colab-df-spinner');\n",
              "          quickchartButtonEl.classList.add('colab-df-quickchart-complete');\n",
              "        }\n",
              "        (() => {\n",
              "          let quickchartButtonEl =\n",
              "            document.querySelector('#df-07ebc42b-43d0-453e-a759-81cc226ee76d button');\n",
              "          quickchartButtonEl.style.display =\n",
              "            google.colab.kernel.accessAllowed ? 'block' : 'none';\n",
              "        })();\n",
              "      </script>\n",
              "    </div>\n",
              "\n",
              "    </div>\n",
              "  </div>\n"
            ],
            "application/vnd.google.colaboratory.intrinsic+json": {
              "type": "dataframe",
              "variable_name": "df"
            }
          },
          "metadata": {},
          "execution_count": 3
        }
      ]
    },
    {
      "cell_type": "markdown",
      "source": [
        "## Análsis de las variables\n",
        "\n",
        "Después de la revisión con `df.info()`, se observa que varias columnas requieren ser eliminadas o transformadas para preparar adecuadamente el conjunto de datos\n",
        "\n",
        "\n",
        "* Eliminación de NAs:\n",
        " * Las columnas geográficas como `Idddr, Nomddr, Idcader, Nomcader, Idmunicipio y Nommunicipio` presentan más de 16,000 valores nulos. Dada la alta cantidad de datos faltantes y para simplificar el modelo, se decide eliminarlas. Lo mismo ocurre con `Preciomediorural y Nomcultivo Sin Um`, que están prácticamente vacías.\n",
        "\n",
        "* Eliminación de Columnas Redundantes:\n",
        " * Las columnas `Idunidadmedida y Nomunidad` indican \"Tonelada\" en todos los registros, por lo que no aportan variabilidad y son eliminadas.\n",
        "\n",
        "Pares de columnas como `(Idmodalidad, Nommodalidad), (Idestado, Nomestado), etc.`, contienen información idéntica. Se decide eliminar las columnas de Id y conservar las de nombre (Nom...), ya que las usaremos para crear variables dummy. *Conservar los IDs numéricos podría llevar a que el modelo interprete erróneamente un orden o una magnitud que no existe.*\n",
        "* Manejo de la Columna Precio:\n",
        " * La columna Precio también tiene valores nulos, aunque en menor medida. Debido a su potencial importancia para predecir el rendimiento, en lugar de eliminar la columna, más adelante se optará por eliminar las filas que no contengan este dato."
      ],
      "metadata": {
        "id": "twsdn8S1nSO1"
      }
    },
    {
      "cell_type": "code",
      "source": [
        "df = df.drop(['Idddr', 'Nomddr','Nomunidad','Idcader', 'Nomcader', 'Idmunicipio', 'Nommunicipio','Nomcultivo Sin Um','Preciomediorural','Idestado','Idciclo','Idcultivo','Idmodalidad','Idunidadmedida'], axis=1)"
      ],
      "metadata": {
        "id": "LNjuzIa3uRlZ"
      },
      "execution_count": 4,
      "outputs": []
    },
    {
      "cell_type": "markdown",
      "source": [
        "Con `df.drop` se eliminan las columnas y con `df.info` revisamos esto"
      ],
      "metadata": {
        "id": "wZDx47lxHRxD"
      }
    },
    {
      "cell_type": "code",
      "source": [
        "df.info()"
      ],
      "metadata": {
        "colab": {
          "base_uri": "https://localhost:8080/",
          "height": 0
        },
        "id": "E7cA2ycswCFe",
        "outputId": "d88fe4c1-6fd3-412c-86a6-ff9c4967be17"
      },
      "execution_count": 5,
      "outputs": [
        {
          "output_type": "stream",
          "name": "stdout",
          "text": [
            "<class 'pandas.core.frame.DataFrame'>\n",
            "RangeIndex: 229965 entries, 0 to 229964\n",
            "Data columns (total 10 columns):\n",
            " #   Column              Non-Null Count   Dtype  \n",
            "---  ------              --------------   -----  \n",
            " 0   Anio                229965 non-null  int64  \n",
            " 1   Nomestado           229965 non-null  object \n",
            " 2   Nomcicloproductivo  229965 non-null  object \n",
            " 3   Nommodalidad        229965 non-null  object \n",
            " 4   Nomcultivo          229965 non-null  object \n",
            " 5   Cosechada           229965 non-null  float64\n",
            " 6   Siniestrada         229965 non-null  float64\n",
            " 7   Rendimiento         229965 non-null  object \n",
            " 8   Precio              200108 non-null  float64\n",
            " 9   Valorproduccion     229965 non-null  float64\n",
            "dtypes: float64(4), int64(1), object(5)\n",
            "memory usage: 17.5+ MB\n"
          ]
        }
      ]
    },
    {
      "cell_type": "markdown",
      "source": [
        "Creemos que la variable Precio puede afectar en el análisis, por lo que eliminaremos las lineas que no tienen los valores de precio. Nos quedamos con 200108 registros"
      ],
      "metadata": {
        "id": "3uIebVNZwZk5"
      }
    },
    {
      "cell_type": "code",
      "source": [
        "df.dropna(subset=['Precio'], inplace=True)\n",
        "df.info()"
      ],
      "metadata": {
        "colab": {
          "base_uri": "https://localhost:8080/",
          "height": 0
        },
        "id": "whDF35G-w1sn",
        "outputId": "cfe56206-ac76-4029-d7a1-7a02ca5bcbbd"
      },
      "execution_count": 6,
      "outputs": [
        {
          "output_type": "stream",
          "name": "stdout",
          "text": [
            "<class 'pandas.core.frame.DataFrame'>\n",
            "Index: 200108 entries, 29857 to 229964\n",
            "Data columns (total 10 columns):\n",
            " #   Column              Non-Null Count   Dtype  \n",
            "---  ------              --------------   -----  \n",
            " 0   Anio                200108 non-null  int64  \n",
            " 1   Nomestado           200108 non-null  object \n",
            " 2   Nomcicloproductivo  200108 non-null  object \n",
            " 3   Nommodalidad        200108 non-null  object \n",
            " 4   Nomcultivo          200108 non-null  object \n",
            " 5   Cosechada           200108 non-null  float64\n",
            " 6   Siniestrada         200108 non-null  float64\n",
            " 7   Rendimiento         200108 non-null  object \n",
            " 8   Precio              200108 non-null  float64\n",
            " 9   Valorproduccion     200108 non-null  float64\n",
            "dtypes: float64(4), int64(1), object(5)\n",
            "memory usage: 16.8+ MB\n"
          ]
        }
      ]
    },
    {
      "cell_type": "markdown",
      "source": [
        "Durante la inspección de datos, observamos que nuestra variable objetivo, Rendimiento, fue clasificada como de tipo object. Esto indica la presencia de valores no numéricos, lo cual es un problema, ya que para un modelo de regresión, la variable objetivo debe ser numérica.\n",
        "\n",
        "El siguiente paso consiste en limpiar esta columna. La estrategia, será identificar aquellos registros que contengan texto y, dado que son muy pocos, eliminarlos. Una vez que la columna esté libre de caracteres no numéricos, la convertiremos al formato float para que pueda ser utilizada correctamente en el entrenamiento de los modelos."
      ],
      "metadata": {
        "id": "ZasjlK0-yyeu"
      }
    },
    {
      "cell_type": "code",
      "source": [
        "# Valores no numéricos en la columna 'Rendimiento'\n",
        "valores_no_numericos = df[pd.to_numeric(df['Rendimiento'], errors='coerce').isna()]\n",
        "# Eliminar los registros con valores no numéricos en la columna 'Rendimiento'\n",
        "df = df.drop(valores_no_numericos.index)\n",
        "df['Rendimiento'] = df['Rendimiento'].astype(float)\n",
        "df.info()"
      ],
      "metadata": {
        "colab": {
          "base_uri": "https://localhost:8080/",
          "height": 0
        },
        "id": "5ki-NXXlyWR8",
        "outputId": "d7e1bdd4-7023-4a00-9126-32971efe535e"
      },
      "execution_count": 7,
      "outputs": [
        {
          "output_type": "stream",
          "name": "stdout",
          "text": [
            "<class 'pandas.core.frame.DataFrame'>\n",
            "Index: 200106 entries, 29857 to 229964\n",
            "Data columns (total 10 columns):\n",
            " #   Column              Non-Null Count   Dtype  \n",
            "---  ------              --------------   -----  \n",
            " 0   Anio                200106 non-null  int64  \n",
            " 1   Nomestado           200106 non-null  object \n",
            " 2   Nomcicloproductivo  200106 non-null  object \n",
            " 3   Nommodalidad        200106 non-null  object \n",
            " 4   Nomcultivo          200106 non-null  object \n",
            " 5   Cosechada           200106 non-null  float64\n",
            " 6   Siniestrada         200106 non-null  float64\n",
            " 7   Rendimiento         200106 non-null  float64\n",
            " 8   Precio              200106 non-null  float64\n",
            " 9   Valorproduccion     200106 non-null  float64\n",
            "dtypes: float64(5), int64(1), object(4)\n",
            "memory usage: 16.8+ MB\n"
          ]
        }
      ]
    },
    {
      "cell_type": "markdown",
      "source": [
        "Ahora tenemos 2 registros menos, y Rendimiento ya no es object."
      ],
      "metadata": {
        "id": "09xaYIvEz_cI"
      }
    },
    {
      "cell_type": "markdown",
      "source": [
        "### One-hot encoding\n",
        "\n",
        "Los algoritmos de machine learning no pueden trabajar directamente con datos de tipo texto (como 'Jalisco' o 'Maíz grano'), por lo que necesitamos convertirlos a un formato numérico.\n",
        "\n",
        "Para lograr esto, aplicaremos la técnica de one-hot encoding utilizando la función `get_dummies` de pandas. Este método creará nuevas columnas para cada categoría única en nuestras variables de tipo object. Por ejemplo, la columna `Nomestado` se transformará en múltiples columnas como `Nomestado_Jalisco, Nomestado_Sonora, etc.`, asignando un 1 o 0 a cada fila según corresponda."
      ],
      "metadata": {
        "id": "Td78iGufILqc"
      }
    },
    {
      "cell_type": "code",
      "source": [
        "df = pd.get_dummies(df)"
      ],
      "metadata": {
        "id": "PYK_7uvJ0MAx"
      },
      "execution_count": 8,
      "outputs": []
    },
    {
      "cell_type": "code",
      "source": [
        "df.head()\n",
        "df.info()"
      ],
      "metadata": {
        "colab": {
          "base_uri": "https://localhost:8080/",
          "height": 0
        },
        "id": "2iLpSdDt0aif",
        "outputId": "9aec247d-4855-4f27-f66e-c93140a8fa4d"
      },
      "execution_count": 9,
      "outputs": [
        {
          "output_type": "stream",
          "name": "stdout",
          "text": [
            "<class 'pandas.core.frame.DataFrame'>\n",
            "Index: 200106 entries, 29857 to 229964\n",
            "Data columns (total 53 columns):\n",
            " #   Column                               Non-Null Count   Dtype  \n",
            "---  ------                               --------------   -----  \n",
            " 0   Anio                                 200106 non-null  int64  \n",
            " 1   Cosechada                            200106 non-null  float64\n",
            " 2   Siniestrada                          200106 non-null  float64\n",
            " 3   Rendimiento                          200106 non-null  float64\n",
            " 4   Precio                               200106 non-null  float64\n",
            " 5   Valorproduccion                      200106 non-null  float64\n",
            " 6   Nomestado_Aguascalientes             200106 non-null  bool   \n",
            " 7   Nomestado_Baja California            200106 non-null  bool   \n",
            " 8   Nomestado_Baja California Sur        200106 non-null  bool   \n",
            " 9   Nomestado_Campeche                   200106 non-null  bool   \n",
            " 10  Nomestado_Chiapas                    200106 non-null  bool   \n",
            " 11  Nomestado_Chihuahua                  200106 non-null  bool   \n",
            " 12  Nomestado_Ciudad de México / DF      200106 non-null  bool   \n",
            " 13  Nomestado_Coahuila                   200106 non-null  bool   \n",
            " 14  Nomestado_Colima                     200106 non-null  bool   \n",
            " 15  Nomestado_Durango                    200106 non-null  bool   \n",
            " 16  Nomestado_Guanajuato                 200106 non-null  bool   \n",
            " 17  Nomestado_Guerrero                   200106 non-null  bool   \n",
            " 18  Nomestado_Hidalgo                    200106 non-null  bool   \n",
            " 19  Nomestado_Jalisco                    200106 non-null  bool   \n",
            " 20  Nomestado_Michoacán                  200106 non-null  bool   \n",
            " 21  Nomestado_Morelos                    200106 non-null  bool   \n",
            " 22  Nomestado_México                     200106 non-null  bool   \n",
            " 23  Nomestado_Nayarit                    200106 non-null  bool   \n",
            " 24  Nomestado_Nuevo León                 200106 non-null  bool   \n",
            " 25  Nomestado_Oaxaca                     200106 non-null  bool   \n",
            " 26  Nomestado_Puebla                     200106 non-null  bool   \n",
            " 27  Nomestado_Querétaro                  200106 non-null  bool   \n",
            " 28  Nomestado_Quintana Roo               200106 non-null  bool   \n",
            " 29  Nomestado_San Luis Potosí            200106 non-null  bool   \n",
            " 30  Nomestado_Sinaloa                    200106 non-null  bool   \n",
            " 31  Nomestado_Sonora                     200106 non-null  bool   \n",
            " 32  Nomestado_Tabasco                    200106 non-null  bool   \n",
            " 33  Nomestado_Tamaulipas                 200106 non-null  bool   \n",
            " 34  Nomestado_Tlaxcala                   200106 non-null  bool   \n",
            " 35  Nomestado_Veracruz                   200106 non-null  bool   \n",
            " 36  Nomestado_Yucatán                    200106 non-null  bool   \n",
            " 37  Nomestado_Zacatecas                  200106 non-null  bool   \n",
            " 38  Nomcicloproductivo_Otoño-Invierno    200106 non-null  bool   \n",
            " 39  Nomcicloproductivo_Perennes          200106 non-null  bool   \n",
            " 40  Nomcicloproductivo_Primavera-Verano  200106 non-null  bool   \n",
            " 41  Nommodalidad_Riego                   200106 non-null  bool   \n",
            " 42  Nommodalidad_Temporal                200106 non-null  bool   \n",
            " 43  Nomcultivo_Avena forrajera en verde  200106 non-null  bool   \n",
            " 44  Nomcultivo_Calabacita                200106 non-null  bool   \n",
            " 45  Nomcultivo_Chile verde               200106 non-null  bool   \n",
            " 46  Nomcultivo_Frijol                    200106 non-null  bool   \n",
            " 47  Nomcultivo_Maíz grano                200106 non-null  bool   \n",
            " 48  Nomcultivo_Pastos y praderas         200106 non-null  bool   \n",
            " 49  Nomcultivo_Sorgo grano               200106 non-null  bool   \n",
            " 50  Nomcultivo_Tomate rojo (jitomate)    200106 non-null  bool   \n",
            " 51  Nomcultivo_Tomate verde              200106 non-null  bool   \n",
            " 52  Nomcultivo_Trigo grano               200106 non-null  bool   \n",
            "dtypes: bool(47), float64(5), int64(1)\n",
            "memory usage: 19.7 MB\n"
          ]
        }
      ]
    },
    {
      "cell_type": "markdown",
      "source": [
        "## Guardado del nuevo DataFrame\n",
        "\n",
        "Ahora que hemos completado la limpieza y transformación de los datos, guardamos nuestro DataFrame limpio en un nuevo archivo CSV.\n",
        "\n",
        "Este paso nos crea un \"punto de control\". Al guardar el estado actual de los datos, nos aseguramos de no tener que repetir todos los pasos de limpieza anteriores cada vez que comencemos a trabajar en un nuevo modelo. Podremos cargar directamente este archivo preprocesado, lo cual es especialmente útil ya que algunos algoritmos requerirán preprocesamientos adicionales (como la estandarización de datos) que otros no. Esto nos permite mantener un flujo de trabajo ordenado y sin errores.\n",
        "\n",
        "Utilizamos el comando to_csv para esta tarea, especificando index=False para evitar que pandas guarde el índice del DataFrame como una columna en el nuevo archivo."
      ],
      "metadata": {
        "id": "tUdjZSjwIp5d"
      }
    },
    {
      "cell_type": "code",
      "source": [
        "df.to_csv('Agromex_seleccionado_preprocesado.csv', index=False)"
      ],
      "metadata": {
        "id": "2IyUWoLB_kkl"
      },
      "execution_count": 10,
      "outputs": []
    },
    {
      "cell_type": "markdown",
      "source": [
        "# Árbol de decisión"
      ],
      "metadata": {
        "id": "zAacTWSc5KiX"
      }
    },
    {
      "cell_type": "markdown",
      "source": [
        "### Modelo Inicial / de Referencia\n",
        "\n",
        "Comenzamos la fase de modelado con un Árbol de Decisión. Este algoritmo es una excelente opción como nuestro modelo inicial o de referencia  porque es fácil de interpretar y no requiere que las variables numéricas estén estandarizadas o normalizadas para funcionar correctamente."
      ],
      "metadata": {
        "id": "9zb19ZZDJN1-"
      }
    },
    {
      "cell_type": "markdown",
      "source": [
        "Dividimos el DataFrame en `X`, que contendrá todas las variables predictoras (características), y `y`, que tendrá únicamente nuestra variable objetivo, Rendimiento."
      ],
      "metadata": {
        "id": "Q7_yeSLmJg1i"
      }
    },
    {
      "cell_type": "code",
      "source": [
        "y = df['Rendimiento']\n",
        "X = df.drop(['Rendimiento'], axis=1)"
      ],
      "metadata": {
        "id": "KU6qZk-d9sRQ"
      },
      "execution_count": 18,
      "outputs": []
    },
    {
      "cell_type": "markdown",
      "source": [
        "Usamos la función `train_test_split` de sklearn para dividir X y y en dos subconjuntos. El 80% de los datos se destinará al entrenamiento del modelo `(X_train, y_train)`, y el 20% restante se reservará para su evaluación `(X_test, y_test).`"
      ],
      "metadata": {
        "id": "jNoZyxZvJnMa"
      }
    },
    {
      "cell_type": "code",
      "source": [
        "X_train, X_test, y_train, y_test = train_test_split(X, y, test_size=0.2, random_state=0)"
      ],
      "metadata": {
        "id": "yzn9lk2JJmZl"
      },
      "execution_count": 19,
      "outputs": []
    },
    {
      "cell_type": "markdown",
      "source": [
        "Ahora creamos una instancia del DecisionTreeRegressor con sus hiperparámetros por defecto y lo entrenamos con nuestros datos de entrenamiento `(X_train, y_train)` utilizando el método `.fit().`\n",
        "\n"
      ],
      "metadata": {
        "id": "awbEN0NHJxWU"
      }
    },
    {
      "cell_type": "code",
      "source": [
        "modelo_arbol = DecisionTreeRegressor()\n",
        "modelo_arbol.fit(X_train, y_train)"
      ],
      "metadata": {
        "colab": {
          "base_uri": "https://localhost:8080/",
          "height": 57
        },
        "id": "8bPLy0KD-kcP",
        "outputId": "a9149a5c-102f-4740-e805-66e812a0475a"
      },
      "execution_count": 20,
      "outputs": [
        {
          "output_type": "execute_result",
          "data": {
            "text/plain": [
              "DecisionTreeRegressor()"
            ],
            "text/html": [
              "<style>#sk-container-id-1 {\n",
              "  /* Definition of color scheme common for light and dark mode */\n",
              "  --sklearn-color-text: #000;\n",
              "  --sklearn-color-text-muted: #666;\n",
              "  --sklearn-color-line: gray;\n",
              "  /* Definition of color scheme for unfitted estimators */\n",
              "  --sklearn-color-unfitted-level-0: #fff5e6;\n",
              "  --sklearn-color-unfitted-level-1: #f6e4d2;\n",
              "  --sklearn-color-unfitted-level-2: #ffe0b3;\n",
              "  --sklearn-color-unfitted-level-3: chocolate;\n",
              "  /* Definition of color scheme for fitted estimators */\n",
              "  --sklearn-color-fitted-level-0: #f0f8ff;\n",
              "  --sklearn-color-fitted-level-1: #d4ebff;\n",
              "  --sklearn-color-fitted-level-2: #b3dbfd;\n",
              "  --sklearn-color-fitted-level-3: cornflowerblue;\n",
              "\n",
              "  /* Specific color for light theme */\n",
              "  --sklearn-color-text-on-default-background: var(--sg-text-color, var(--theme-code-foreground, var(--jp-content-font-color1, black)));\n",
              "  --sklearn-color-background: var(--sg-background-color, var(--theme-background, var(--jp-layout-color0, white)));\n",
              "  --sklearn-color-border-box: var(--sg-text-color, var(--theme-code-foreground, var(--jp-content-font-color1, black)));\n",
              "  --sklearn-color-icon: #696969;\n",
              "\n",
              "  @media (prefers-color-scheme: dark) {\n",
              "    /* Redefinition of color scheme for dark theme */\n",
              "    --sklearn-color-text-on-default-background: var(--sg-text-color, var(--theme-code-foreground, var(--jp-content-font-color1, white)));\n",
              "    --sklearn-color-background: var(--sg-background-color, var(--theme-background, var(--jp-layout-color0, #111)));\n",
              "    --sklearn-color-border-box: var(--sg-text-color, var(--theme-code-foreground, var(--jp-content-font-color1, white)));\n",
              "    --sklearn-color-icon: #878787;\n",
              "  }\n",
              "}\n",
              "\n",
              "#sk-container-id-1 {\n",
              "  color: var(--sklearn-color-text);\n",
              "}\n",
              "\n",
              "#sk-container-id-1 pre {\n",
              "  padding: 0;\n",
              "}\n",
              "\n",
              "#sk-container-id-1 input.sk-hidden--visually {\n",
              "  border: 0;\n",
              "  clip: rect(1px 1px 1px 1px);\n",
              "  clip: rect(1px, 1px, 1px, 1px);\n",
              "  height: 1px;\n",
              "  margin: -1px;\n",
              "  overflow: hidden;\n",
              "  padding: 0;\n",
              "  position: absolute;\n",
              "  width: 1px;\n",
              "}\n",
              "\n",
              "#sk-container-id-1 div.sk-dashed-wrapped {\n",
              "  border: 1px dashed var(--sklearn-color-line);\n",
              "  margin: 0 0.4em 0.5em 0.4em;\n",
              "  box-sizing: border-box;\n",
              "  padding-bottom: 0.4em;\n",
              "  background-color: var(--sklearn-color-background);\n",
              "}\n",
              "\n",
              "#sk-container-id-1 div.sk-container {\n",
              "  /* jupyter's `normalize.less` sets `[hidden] { display: none; }`\n",
              "     but bootstrap.min.css set `[hidden] { display: none !important; }`\n",
              "     so we also need the `!important` here to be able to override the\n",
              "     default hidden behavior on the sphinx rendered scikit-learn.org.\n",
              "     See: https://github.com/scikit-learn/scikit-learn/issues/21755 */\n",
              "  display: inline-block !important;\n",
              "  position: relative;\n",
              "}\n",
              "\n",
              "#sk-container-id-1 div.sk-text-repr-fallback {\n",
              "  display: none;\n",
              "}\n",
              "\n",
              "div.sk-parallel-item,\n",
              "div.sk-serial,\n",
              "div.sk-item {\n",
              "  /* draw centered vertical line to link estimators */\n",
              "  background-image: linear-gradient(var(--sklearn-color-text-on-default-background), var(--sklearn-color-text-on-default-background));\n",
              "  background-size: 2px 100%;\n",
              "  background-repeat: no-repeat;\n",
              "  background-position: center center;\n",
              "}\n",
              "\n",
              "/* Parallel-specific style estimator block */\n",
              "\n",
              "#sk-container-id-1 div.sk-parallel-item::after {\n",
              "  content: \"\";\n",
              "  width: 100%;\n",
              "  border-bottom: 2px solid var(--sklearn-color-text-on-default-background);\n",
              "  flex-grow: 1;\n",
              "}\n",
              "\n",
              "#sk-container-id-1 div.sk-parallel {\n",
              "  display: flex;\n",
              "  align-items: stretch;\n",
              "  justify-content: center;\n",
              "  background-color: var(--sklearn-color-background);\n",
              "  position: relative;\n",
              "}\n",
              "\n",
              "#sk-container-id-1 div.sk-parallel-item {\n",
              "  display: flex;\n",
              "  flex-direction: column;\n",
              "}\n",
              "\n",
              "#sk-container-id-1 div.sk-parallel-item:first-child::after {\n",
              "  align-self: flex-end;\n",
              "  width: 50%;\n",
              "}\n",
              "\n",
              "#sk-container-id-1 div.sk-parallel-item:last-child::after {\n",
              "  align-self: flex-start;\n",
              "  width: 50%;\n",
              "}\n",
              "\n",
              "#sk-container-id-1 div.sk-parallel-item:only-child::after {\n",
              "  width: 0;\n",
              "}\n",
              "\n",
              "/* Serial-specific style estimator block */\n",
              "\n",
              "#sk-container-id-1 div.sk-serial {\n",
              "  display: flex;\n",
              "  flex-direction: column;\n",
              "  align-items: center;\n",
              "  background-color: var(--sklearn-color-background);\n",
              "  padding-right: 1em;\n",
              "  padding-left: 1em;\n",
              "}\n",
              "\n",
              "\n",
              "/* Toggleable style: style used for estimator/Pipeline/ColumnTransformer box that is\n",
              "clickable and can be expanded/collapsed.\n",
              "- Pipeline and ColumnTransformer use this feature and define the default style\n",
              "- Estimators will overwrite some part of the style using the `sk-estimator` class\n",
              "*/\n",
              "\n",
              "/* Pipeline and ColumnTransformer style (default) */\n",
              "\n",
              "#sk-container-id-1 div.sk-toggleable {\n",
              "  /* Default theme specific background. It is overwritten whether we have a\n",
              "  specific estimator or a Pipeline/ColumnTransformer */\n",
              "  background-color: var(--sklearn-color-background);\n",
              "}\n",
              "\n",
              "/* Toggleable label */\n",
              "#sk-container-id-1 label.sk-toggleable__label {\n",
              "  cursor: pointer;\n",
              "  display: flex;\n",
              "  width: 100%;\n",
              "  margin-bottom: 0;\n",
              "  padding: 0.5em;\n",
              "  box-sizing: border-box;\n",
              "  text-align: center;\n",
              "  align-items: start;\n",
              "  justify-content: space-between;\n",
              "  gap: 0.5em;\n",
              "}\n",
              "\n",
              "#sk-container-id-1 label.sk-toggleable__label .caption {\n",
              "  font-size: 0.6rem;\n",
              "  font-weight: lighter;\n",
              "  color: var(--sklearn-color-text-muted);\n",
              "}\n",
              "\n",
              "#sk-container-id-1 label.sk-toggleable__label-arrow:before {\n",
              "  /* Arrow on the left of the label */\n",
              "  content: \"▸\";\n",
              "  float: left;\n",
              "  margin-right: 0.25em;\n",
              "  color: var(--sklearn-color-icon);\n",
              "}\n",
              "\n",
              "#sk-container-id-1 label.sk-toggleable__label-arrow:hover:before {\n",
              "  color: var(--sklearn-color-text);\n",
              "}\n",
              "\n",
              "/* Toggleable content - dropdown */\n",
              "\n",
              "#sk-container-id-1 div.sk-toggleable__content {\n",
              "  max-height: 0;\n",
              "  max-width: 0;\n",
              "  overflow: hidden;\n",
              "  text-align: left;\n",
              "  /* unfitted */\n",
              "  background-color: var(--sklearn-color-unfitted-level-0);\n",
              "}\n",
              "\n",
              "#sk-container-id-1 div.sk-toggleable__content.fitted {\n",
              "  /* fitted */\n",
              "  background-color: var(--sklearn-color-fitted-level-0);\n",
              "}\n",
              "\n",
              "#sk-container-id-1 div.sk-toggleable__content pre {\n",
              "  margin: 0.2em;\n",
              "  border-radius: 0.25em;\n",
              "  color: var(--sklearn-color-text);\n",
              "  /* unfitted */\n",
              "  background-color: var(--sklearn-color-unfitted-level-0);\n",
              "}\n",
              "\n",
              "#sk-container-id-1 div.sk-toggleable__content.fitted pre {\n",
              "  /* unfitted */\n",
              "  background-color: var(--sklearn-color-fitted-level-0);\n",
              "}\n",
              "\n",
              "#sk-container-id-1 input.sk-toggleable__control:checked~div.sk-toggleable__content {\n",
              "  /* Expand drop-down */\n",
              "  max-height: 200px;\n",
              "  max-width: 100%;\n",
              "  overflow: auto;\n",
              "}\n",
              "\n",
              "#sk-container-id-1 input.sk-toggleable__control:checked~label.sk-toggleable__label-arrow:before {\n",
              "  content: \"▾\";\n",
              "}\n",
              "\n",
              "/* Pipeline/ColumnTransformer-specific style */\n",
              "\n",
              "#sk-container-id-1 div.sk-label input.sk-toggleable__control:checked~label.sk-toggleable__label {\n",
              "  color: var(--sklearn-color-text);\n",
              "  background-color: var(--sklearn-color-unfitted-level-2);\n",
              "}\n",
              "\n",
              "#sk-container-id-1 div.sk-label.fitted input.sk-toggleable__control:checked~label.sk-toggleable__label {\n",
              "  background-color: var(--sklearn-color-fitted-level-2);\n",
              "}\n",
              "\n",
              "/* Estimator-specific style */\n",
              "\n",
              "/* Colorize estimator box */\n",
              "#sk-container-id-1 div.sk-estimator input.sk-toggleable__control:checked~label.sk-toggleable__label {\n",
              "  /* unfitted */\n",
              "  background-color: var(--sklearn-color-unfitted-level-2);\n",
              "}\n",
              "\n",
              "#sk-container-id-1 div.sk-estimator.fitted input.sk-toggleable__control:checked~label.sk-toggleable__label {\n",
              "  /* fitted */\n",
              "  background-color: var(--sklearn-color-fitted-level-2);\n",
              "}\n",
              "\n",
              "#sk-container-id-1 div.sk-label label.sk-toggleable__label,\n",
              "#sk-container-id-1 div.sk-label label {\n",
              "  /* The background is the default theme color */\n",
              "  color: var(--sklearn-color-text-on-default-background);\n",
              "}\n",
              "\n",
              "/* On hover, darken the color of the background */\n",
              "#sk-container-id-1 div.sk-label:hover label.sk-toggleable__label {\n",
              "  color: var(--sklearn-color-text);\n",
              "  background-color: var(--sklearn-color-unfitted-level-2);\n",
              "}\n",
              "\n",
              "/* Label box, darken color on hover, fitted */\n",
              "#sk-container-id-1 div.sk-label.fitted:hover label.sk-toggleable__label.fitted {\n",
              "  color: var(--sklearn-color-text);\n",
              "  background-color: var(--sklearn-color-fitted-level-2);\n",
              "}\n",
              "\n",
              "/* Estimator label */\n",
              "\n",
              "#sk-container-id-1 div.sk-label label {\n",
              "  font-family: monospace;\n",
              "  font-weight: bold;\n",
              "  display: inline-block;\n",
              "  line-height: 1.2em;\n",
              "}\n",
              "\n",
              "#sk-container-id-1 div.sk-label-container {\n",
              "  text-align: center;\n",
              "}\n",
              "\n",
              "/* Estimator-specific */\n",
              "#sk-container-id-1 div.sk-estimator {\n",
              "  font-family: monospace;\n",
              "  border: 1px dotted var(--sklearn-color-border-box);\n",
              "  border-radius: 0.25em;\n",
              "  box-sizing: border-box;\n",
              "  margin-bottom: 0.5em;\n",
              "  /* unfitted */\n",
              "  background-color: var(--sklearn-color-unfitted-level-0);\n",
              "}\n",
              "\n",
              "#sk-container-id-1 div.sk-estimator.fitted {\n",
              "  /* fitted */\n",
              "  background-color: var(--sklearn-color-fitted-level-0);\n",
              "}\n",
              "\n",
              "/* on hover */\n",
              "#sk-container-id-1 div.sk-estimator:hover {\n",
              "  /* unfitted */\n",
              "  background-color: var(--sklearn-color-unfitted-level-2);\n",
              "}\n",
              "\n",
              "#sk-container-id-1 div.sk-estimator.fitted:hover {\n",
              "  /* fitted */\n",
              "  background-color: var(--sklearn-color-fitted-level-2);\n",
              "}\n",
              "\n",
              "/* Specification for estimator info (e.g. \"i\" and \"?\") */\n",
              "\n",
              "/* Common style for \"i\" and \"?\" */\n",
              "\n",
              ".sk-estimator-doc-link,\n",
              "a:link.sk-estimator-doc-link,\n",
              "a:visited.sk-estimator-doc-link {\n",
              "  float: right;\n",
              "  font-size: smaller;\n",
              "  line-height: 1em;\n",
              "  font-family: monospace;\n",
              "  background-color: var(--sklearn-color-background);\n",
              "  border-radius: 1em;\n",
              "  height: 1em;\n",
              "  width: 1em;\n",
              "  text-decoration: none !important;\n",
              "  margin-left: 0.5em;\n",
              "  text-align: center;\n",
              "  /* unfitted */\n",
              "  border: var(--sklearn-color-unfitted-level-1) 1pt solid;\n",
              "  color: var(--sklearn-color-unfitted-level-1);\n",
              "}\n",
              "\n",
              ".sk-estimator-doc-link.fitted,\n",
              "a:link.sk-estimator-doc-link.fitted,\n",
              "a:visited.sk-estimator-doc-link.fitted {\n",
              "  /* fitted */\n",
              "  border: var(--sklearn-color-fitted-level-1) 1pt solid;\n",
              "  color: var(--sklearn-color-fitted-level-1);\n",
              "}\n",
              "\n",
              "/* On hover */\n",
              "div.sk-estimator:hover .sk-estimator-doc-link:hover,\n",
              ".sk-estimator-doc-link:hover,\n",
              "div.sk-label-container:hover .sk-estimator-doc-link:hover,\n",
              ".sk-estimator-doc-link:hover {\n",
              "  /* unfitted */\n",
              "  background-color: var(--sklearn-color-unfitted-level-3);\n",
              "  color: var(--sklearn-color-background);\n",
              "  text-decoration: none;\n",
              "}\n",
              "\n",
              "div.sk-estimator.fitted:hover .sk-estimator-doc-link.fitted:hover,\n",
              ".sk-estimator-doc-link.fitted:hover,\n",
              "div.sk-label-container:hover .sk-estimator-doc-link.fitted:hover,\n",
              ".sk-estimator-doc-link.fitted:hover {\n",
              "  /* fitted */\n",
              "  background-color: var(--sklearn-color-fitted-level-3);\n",
              "  color: var(--sklearn-color-background);\n",
              "  text-decoration: none;\n",
              "}\n",
              "\n",
              "/* Span, style for the box shown on hovering the info icon */\n",
              ".sk-estimator-doc-link span {\n",
              "  display: none;\n",
              "  z-index: 9999;\n",
              "  position: relative;\n",
              "  font-weight: normal;\n",
              "  right: .2ex;\n",
              "  padding: .5ex;\n",
              "  margin: .5ex;\n",
              "  width: min-content;\n",
              "  min-width: 20ex;\n",
              "  max-width: 50ex;\n",
              "  color: var(--sklearn-color-text);\n",
              "  box-shadow: 2pt 2pt 4pt #999;\n",
              "  /* unfitted */\n",
              "  background: var(--sklearn-color-unfitted-level-0);\n",
              "  border: .5pt solid var(--sklearn-color-unfitted-level-3);\n",
              "}\n",
              "\n",
              ".sk-estimator-doc-link.fitted span {\n",
              "  /* fitted */\n",
              "  background: var(--sklearn-color-fitted-level-0);\n",
              "  border: var(--sklearn-color-fitted-level-3);\n",
              "}\n",
              "\n",
              ".sk-estimator-doc-link:hover span {\n",
              "  display: block;\n",
              "}\n",
              "\n",
              "/* \"?\"-specific style due to the `<a>` HTML tag */\n",
              "\n",
              "#sk-container-id-1 a.estimator_doc_link {\n",
              "  float: right;\n",
              "  font-size: 1rem;\n",
              "  line-height: 1em;\n",
              "  font-family: monospace;\n",
              "  background-color: var(--sklearn-color-background);\n",
              "  border-radius: 1rem;\n",
              "  height: 1rem;\n",
              "  width: 1rem;\n",
              "  text-decoration: none;\n",
              "  /* unfitted */\n",
              "  color: var(--sklearn-color-unfitted-level-1);\n",
              "  border: var(--sklearn-color-unfitted-level-1) 1pt solid;\n",
              "}\n",
              "\n",
              "#sk-container-id-1 a.estimator_doc_link.fitted {\n",
              "  /* fitted */\n",
              "  border: var(--sklearn-color-fitted-level-1) 1pt solid;\n",
              "  color: var(--sklearn-color-fitted-level-1);\n",
              "}\n",
              "\n",
              "/* On hover */\n",
              "#sk-container-id-1 a.estimator_doc_link:hover {\n",
              "  /* unfitted */\n",
              "  background-color: var(--sklearn-color-unfitted-level-3);\n",
              "  color: var(--sklearn-color-background);\n",
              "  text-decoration: none;\n",
              "}\n",
              "\n",
              "#sk-container-id-1 a.estimator_doc_link.fitted:hover {\n",
              "  /* fitted */\n",
              "  background-color: var(--sklearn-color-fitted-level-3);\n",
              "}\n",
              "</style><div id=\"sk-container-id-1\" class=\"sk-top-container\"><div class=\"sk-text-repr-fallback\"><pre>DecisionTreeRegressor()</pre><b>In a Jupyter environment, please rerun this cell to show the HTML representation or trust the notebook. <br />On GitHub, the HTML representation is unable to render, please try loading this page with nbviewer.org.</b></div><div class=\"sk-container\" hidden><div class=\"sk-item\"><div class=\"sk-estimator fitted sk-toggleable\"><input class=\"sk-toggleable__control sk-hidden--visually\" id=\"sk-estimator-id-1\" type=\"checkbox\" checked><label for=\"sk-estimator-id-1\" class=\"sk-toggleable__label fitted sk-toggleable__label-arrow\"><div><div>DecisionTreeRegressor</div></div><div><a class=\"sk-estimator-doc-link fitted\" rel=\"noreferrer\" target=\"_blank\" href=\"https://scikit-learn.org/1.6/modules/generated/sklearn.tree.DecisionTreeRegressor.html\">?<span>Documentation for DecisionTreeRegressor</span></a><span class=\"sk-estimator-doc-link fitted\">i<span>Fitted</span></span></div></label><div class=\"sk-toggleable__content fitted\"><pre>DecisionTreeRegressor()</pre></div> </div></div></div></div>"
            ]
          },
          "metadata": {},
          "execution_count": 20
        }
      ]
    },
    {
      "cell_type": "markdown",
      "source": [
        "Inmediatamente después, evaluamos su rendimiento con el método .score(), que para este tipo de modelo calcula el coeficiente de determinación (R²) sobre el conjunto de prueba. Este valor nos indicará qué porcentaje de la variabilidad del rendimiento es explicado por nuestro modelo.\n",
        "\n",
        "El resultado obtenido es un R² de aproximadamente 0.94, esto indica que el modelo, en su estado inicial, es capaz de explicar el 94% de la varianza en los datos de rendimiento del conjunto de prueba. Lo cual es muy bueno"
      ],
      "metadata": {
        "id": "NlfdhA0YJ8H4"
      }
    },
    {
      "cell_type": "code",
      "source": [
        "modelo_arbol.score(X_test, y_test)"
      ],
      "metadata": {
        "colab": {
          "base_uri": "https://localhost:8080/",
          "height": 0
        },
        "id": "uXMloUA9J_5D",
        "outputId": "eddc8aa5-1023-4a26-e981-879759c7c6af"
      },
      "execution_count": 21,
      "outputs": [
        {
          "output_type": "execute_result",
          "data": {
            "text/plain": [
              "0.9387237587619409"
            ]
          },
          "metadata": {},
          "execution_count": 21
        }
      ]
    },
    {
      "cell_type": "markdown",
      "source": [
        "Vamos a consultar la profundidad de nuestro árbol recién entrenado.\n",
        "\n"
      ],
      "metadata": {
        "id": "axF3ZgUnKTh3"
      }
    },
    {
      "cell_type": "code",
      "source": [
        "modelo_arbol.get_depth()"
      ],
      "metadata": {
        "colab": {
          "base_uri": "https://localhost:8080/",
          "height": 0
        },
        "id": "7XxriGhH-k6r",
        "outputId": "344eaa65-9023-45eb-d107-ced1abf03185"
      },
      "execution_count": 22,
      "outputs": [
        {
          "output_type": "execute_result",
          "data": {
            "text/plain": [
              "51"
            ]
          },
          "metadata": {},
          "execution_count": 22
        }
      ]
    },
    {
      "cell_type": "markdown",
      "source": [
        "La profundidad obtenida (51) es alta, podemos sospechar sobreajuste, entonces vamos a ajustar manualmente los hiperparámetros:\n",
        "* ` max_depth:` Limita la profundidad máxima del árbol.\n",
        "* `max_leaf_nodes:` Limita el número máximo de nodos hoja (nodos terminales)."
      ],
      "metadata": {
        "id": "wKI2Qd3bKcpd"
      }
    },
    {
      "cell_type": "code",
      "source": [
        "modelo_arbol = DecisionTreeRegressor(max_depth=34, max_leaf_nodes = 800)\n",
        "modelo_arbol.fit(X_train, y_train)\n",
        "modelo_arbol.score(X_test, y_test)"
      ],
      "metadata": {
        "colab": {
          "base_uri": "https://localhost:8080/",
          "height": 0
        },
        "id": "ppZuaZ_2-mbr",
        "outputId": "9c965bb0-a99b-443c-c4ba-39344090646a"
      },
      "execution_count": 23,
      "outputs": [
        {
          "output_type": "execute_result",
          "data": {
            "text/plain": [
              "0.92475426543334"
            ]
          },
          "metadata": {},
          "execution_count": 23
        }
      ]
    },
    {
      "cell_type": "markdown",
      "source": [
        "Al entrenar este nuevo modelo restringido, obtenemos un R² de 0.93. Es interesante notar que este valor es ligeramente inferior al del modelo sin restricciones. Y fue el más alto después de iterar varias veces para encontrarlo modificando aproximadamente unas 10 veces por parámetro"
      ],
      "metadata": {
        "id": "wyMayAFnLtdu"
      }
    },
    {
      "cell_type": "markdown",
      "source": [
        "# Vecinos más cercanos (K-Nearest-Neighbors)"
      ],
      "metadata": {
        "id": "ZZszZshc8Hqb"
      }
    },
    {
      "cell_type": "markdown",
      "source": [
        "## Segundo modelo\n",
        "\n",
        "El segundo modelo que exploraremos es el K-Nearest Neighbors (KNN). Este es un algoritmo basado en instancias que predice el valor de un punto de datos basándose en el promedio de los valores de sus \"k\" vecinos más cercanos en el espacio de características.\n",
        "\n",
        "KNN es un algoritmo basado en distancia. Esto significa que es muy sensible a la escala de las variables. Si una variable `(como Valorproduccion)` tiene una escala mucho mayor que otra `(como Año)`, dominará el cálculo de la distancia y sesgará el modelo.\n",
        "\n",
        "Para evitar esto, lso datos de este modelo **requieren un preprocesamiento de estandarización.**"
      ],
      "metadata": {
        "id": "XofA4fUtMitb"
      }
    },
    {
      "cell_type": "code",
      "source": [
        "df = pd.read_csv('Agromex_seleccionado_preprocesado.csv')"
      ],
      "metadata": {
        "id": "iWE3W-eN_JvO"
      },
      "execution_count": 24,
      "outputs": []
    },
    {
      "cell_type": "markdown",
      "source": [
        "Se separa la columna `Rendimiento` como variable objetivo (`y`) y el resto del DataFrame como variables predictoras (`X`), eliminando esa columna.\n"
      ],
      "metadata": {
        "id": "t1hihxZZNq6Q"
      }
    },
    {
      "cell_type": "code",
      "source": [
        "y = df['Rendimiento']\n",
        "X = df.drop(['Rendimiento'], axis=1)"
      ],
      "metadata": {
        "id": "ej4aIuM0_JFM"
      },
      "execution_count": 25,
      "outputs": []
    },
    {
      "cell_type": "markdown",
      "source": [
        "Usamos la función train_test_split de sklearn para dividir X y y en dos subconjuntos. El 80% de los datos se destinará al entrenamiento del modelo (X_train, y_train), y el 20% restante se reservará para su evaluación (X_test, y_test)."
      ],
      "metadata": {
        "id": "lfgtDlVxN7TU"
      }
    },
    {
      "cell_type": "code",
      "source": [
        "X_train, X_test, y_train, y_test = train_test_split(X, y, test_size=0.2, random_state=0)"
      ],
      "metadata": {
        "id": "6oXIjXnHALX0"
      },
      "execution_count": 26,
      "outputs": []
    },
    {
      "cell_type": "markdown",
      "source": [
        "Usaremos StandardScaler de sklearn para transformar nuestras características de modo que cada una tenga una media de 0 y una desviación estándar de 1. Esto asegura que todas las variables contribuyan de manera equitativa al resultado"
      ],
      "metadata": {
        "id": "I0hzqT9HM8dh"
      }
    },
    {
      "cell_type": "code",
      "source": [
        "scaler = StandardScaler()\n",
        "X_train_scaled = scaler.fit_transform(X_train)\n",
        "X_test_scaled = scaler.transform(X_test)"
      ],
      "metadata": {
        "id": "aBxxTxJmAl1Q"
      },
      "execution_count": 27,
      "outputs": []
    },
    {
      "cell_type": "markdown",
      "source": [
        "El hiperparámetro más importante en KNN es `n_neighbors`, que define cuántos vecinos se considerarán para hacer una predicción.\n",
        "\n",
        "Iteramos entre muchos valores para encontrar el valor óptimo de k. Se probaron varios valores, como 3, 5, 7, 51, 153, 521, 1021, 5003 etc. Se observó que a medida que k aumentaba, el rendimiento (R²) disminuía y subía ligeramente. El mejor lo encontramos en `k = 3` Por lo tanto, usamos ese.\n"
      ],
      "metadata": {
        "id": "FGPeFpuZN-pS"
      }
    },
    {
      "cell_type": "code",
      "source": [
        "modelo_knn = KNeighborsRegressor(n_neighbors=3)\n",
        "modelo_knn.fit(X_train_scaled, y_train)\n",
        "modelo_knn.score(X_test_scaled, y_test)"
      ],
      "metadata": {
        "colab": {
          "base_uri": "https://localhost:8080/",
          "height": 0
        },
        "id": "7rwr0ACzBx6A",
        "outputId": "2565609a-e62e-4742-f621-20f0436b7b94"
      },
      "execution_count": 28,
      "outputs": [
        {
          "output_type": "execute_result",
          "data": {
            "text/plain": [
              "0.7379091737288065"
            ]
          },
          "metadata": {},
          "execution_count": 28
        }
      ]
    },
    {
      "cell_type": "markdown",
      "source": [
        "## Métricas"
      ],
      "metadata": {
        "id": "q-aYjxBeO76S"
      }
    },
    {
      "cell_type": "markdown",
      "source": [
        "El R² obtenido es de 0.74, lo que significa que el modelo explica el 74% de la varianza del rendimiento. Es un resultado decente, pero inferior al del árbol de decisión"
      ],
      "metadata": {
        "id": "gFx2wHDSOpQU"
      }
    },
    {
      "cell_type": "markdown",
      "source": [
        "Además del R², es útil calcular otras métricas para entender mejor el error del modelo.\n",
        "\n",
        "* MSE (Mean Squared Error): Es el promedio de los errores al cuadrado.\n",
        "* MAE (Mean Absolute Error): Es el promedio de los errores absolutos.\n",
        "\n",
        "El MSE es de 173.41 y el MAE es de 3.11. En promedio, las predicciones del modelo se desvían en 3.11 unidades del valor real."
      ],
      "metadata": {
        "id": "QuD-qFGWOxYp"
      }
    },
    {
      "cell_type": "code",
      "source": [
        "y_pred = modelo_knn.predict(X_test_scaled)\n",
        "mse = mean_squared_error(y_test, y_pred)\n",
        "mae = mean_absolute_error(y_test, y_pred)\n",
        "print(\"MSE:\", mse)\n",
        "print(\"MAE:\", mae)"
      ],
      "metadata": {
        "colab": {
          "base_uri": "https://localhost:8080/",
          "height": 0
        },
        "id": "zz_BjGy2AOFC",
        "outputId": "c0476105-ac0c-4333-cbc9-6181d454c036"
      },
      "execution_count": 29,
      "outputs": [
        {
          "output_type": "stream",
          "name": "stdout",
          "text": [
            "MSE: 173.41059046135737\n",
            "MAE: 3.1138765345726522\n"
          ]
        }
      ]
    },
    {
      "cell_type": "markdown",
      "source": [
        "# Ridge"
      ],
      "metadata": {
        "id": "Tg2sdT6D7GjB"
      }
    },
    {
      "cell_type": "markdown",
      "source": [
        "## Tercer modelo\n",
        "\n",
        "A diferencia de la regresión lineal simple, Ridge incluye una penalización de regularización L2. Esta penalización ayuda a prevenir el sobreajuste al contraer los coeficientes del modelo, y es especialmente útil cuando las variables predictoras están altamente correlacionadas entre sí.\n",
        "\n",
        "El hiperparámetro clave en Ridge es alpha (también conocido como lambda), que controla la fuerza de esta penalización. Un alpha más alto resulta en un modelo más simple.\n",
        "\n",
        "\n",
        "$$\n",
        "J(\\theta) = \\sum_{i=1}^n \\left( y_i - \\hat{y}_i \\right)^2 + \\lambda \\sum_{j=1}^p \\theta_j^2\n",
        "$$"
      ],
      "metadata": {
        "id": "c1MQRF6hPWZR"
      }
    },
    {
      "cell_type": "markdown",
      "source": [
        "### Pre-procesamiento\n",
        "\n",
        "Al igual que KNN, los modelos de regresión regularizados como Ridge y Lasso son sensibles a la escala de las características. La penalización se aplica directamente sobre la magnitud de los coeficientes, por lo que si una variable tiene una escala mucho mayor que otra, su coeficiente será penalizado de forma desproporcionada.\n",
        "\n",
        "\n",
        "Por esta razón, **es necesario estandarizar los datos** antes de entrenar un modelo para Ridge. Por lo que no volveremos a inicializar las variables y usaremos las ya normalizadas de KNN."
      ],
      "metadata": {
        "id": "khOZyDa-Py15"
      }
    },
    {
      "cell_type": "markdown",
      "source": [
        "### Hiperparámetros\n",
        "\n",
        "Encontrar el valor óptimo para alpha es crucial. En lugar de hacerlo manualmente, utilizaremos una herramienta más eficiente y robusta: RidgeCV. Este método realiza una búsqueda automática del mejor alpha a través de validación cruzada (Cross-Validation)"
      ],
      "metadata": {
        "id": "wJbgV0fzQeYm"
      }
    },
    {
      "cell_type": "markdown",
      "source": [
        "Primero, definimos una amplia gama de posibles valores para alpha, desde muy grandes (10^10) hasta muy pequeños (0.01), utilizando np.linspace."
      ],
      "metadata": {
        "id": "y5YJerA5Qw1D"
      }
    },
    {
      "cell_type": "code",
      "source": [
        "lambdas = 10**np.linspace(10,-2,100)\n",
        "lambdas"
      ],
      "metadata": {
        "colab": {
          "base_uri": "https://localhost:8080/",
          "height": 0
        },
        "id": "BVs1qdb3GaqC",
        "outputId": "33118936-53a7-46f0-cc4d-7020d54d82b5"
      },
      "execution_count": 30,
      "outputs": [
        {
          "output_type": "execute_result",
          "data": {
            "text/plain": [
              "array([1.00000000e+10, 7.56463328e+09, 5.72236766e+09, 4.32876128e+09,\n",
              "       3.27454916e+09, 2.47707636e+09, 1.87381742e+09, 1.41747416e+09,\n",
              "       1.07226722e+09, 8.11130831e+08, 6.13590727e+08, 4.64158883e+08,\n",
              "       3.51119173e+08, 2.65608778e+08, 2.00923300e+08, 1.51991108e+08,\n",
              "       1.14975700e+08, 8.69749003e+07, 6.57933225e+07, 4.97702356e+07,\n",
              "       3.76493581e+07, 2.84803587e+07, 2.15443469e+07, 1.62975083e+07,\n",
              "       1.23284674e+07, 9.32603347e+06, 7.05480231e+06, 5.33669923e+06,\n",
              "       4.03701726e+06, 3.05385551e+06, 2.31012970e+06, 1.74752840e+06,\n",
              "       1.32194115e+06, 1.00000000e+06, 7.56463328e+05, 5.72236766e+05,\n",
              "       4.32876128e+05, 3.27454916e+05, 2.47707636e+05, 1.87381742e+05,\n",
              "       1.41747416e+05, 1.07226722e+05, 8.11130831e+04, 6.13590727e+04,\n",
              "       4.64158883e+04, 3.51119173e+04, 2.65608778e+04, 2.00923300e+04,\n",
              "       1.51991108e+04, 1.14975700e+04, 8.69749003e+03, 6.57933225e+03,\n",
              "       4.97702356e+03, 3.76493581e+03, 2.84803587e+03, 2.15443469e+03,\n",
              "       1.62975083e+03, 1.23284674e+03, 9.32603347e+02, 7.05480231e+02,\n",
              "       5.33669923e+02, 4.03701726e+02, 3.05385551e+02, 2.31012970e+02,\n",
              "       1.74752840e+02, 1.32194115e+02, 1.00000000e+02, 7.56463328e+01,\n",
              "       5.72236766e+01, 4.32876128e+01, 3.27454916e+01, 2.47707636e+01,\n",
              "       1.87381742e+01, 1.41747416e+01, 1.07226722e+01, 8.11130831e+00,\n",
              "       6.13590727e+00, 4.64158883e+00, 3.51119173e+00, 2.65608778e+00,\n",
              "       2.00923300e+00, 1.51991108e+00, 1.14975700e+00, 8.69749003e-01,\n",
              "       6.57933225e-01, 4.97702356e-01, 3.76493581e-01, 2.84803587e-01,\n",
              "       2.15443469e-01, 1.62975083e-01, 1.23284674e-01, 9.32603347e-02,\n",
              "       7.05480231e-02, 5.33669923e-02, 4.03701726e-02, 3.05385551e-02,\n",
              "       2.31012970e-02, 1.74752840e-02, 1.32194115e-02, 1.00000000e-02])"
            ]
          },
          "metadata": {},
          "execution_count": 30
        }
      ]
    },
    {
      "cell_type": "markdown",
      "source": [
        "RidgeCV prueba internamente estos valores y, mediante validación cruzada, determina cuál de ellos ofrece el mejor rendimiento promedio, evitando así el sobreajuste durante la selección del hiperparámetro."
      ],
      "metadata": {
        "id": "Vk8tfe7fQ2ug"
      }
    },
    {
      "cell_type": "code",
      "source": [
        "ridgecv = RidgeCV(alphas = lambdas)\n",
        "ridgecv.fit(X_train_scaled, y_train)\n",
        "al = ridgecv.alpha_"
      ],
      "metadata": {
        "id": "UInQ7C4TGAGC"
      },
      "execution_count": 58,
      "outputs": []
    },
    {
      "cell_type": "markdown",
      "source": [
        "### Entrenamiento\n",
        "\n",
        "Una vez que RidgeCV ha encontrado el alpha óptimo, entrenamos un modelo Ridge final con este hiperparámetro y evaluamos su rendimiento en el conjunto de prueba.\n",
        "\n",
        "Se pueden observar los coeficientes que el modelo asignó a cada variable. algunos se hicieron bajos para reducir la complejidad."
      ],
      "metadata": {
        "id": "DczgiYz5Q6_1"
      }
    },
    {
      "cell_type": "code",
      "source": [
        "ridge = Ridge(alpha = al)\n",
        "ridge.fit(X_train_scaled, y_train)\n",
        "pred = ridge.predict(X_test_scaled)           # Uso del modelo para predecir el conjunto de Testeo\n",
        "print(f'El modelo Ridge tiene un MSE DE :{mean_squared_error(y_test, pred)}')          # Imprimit el error de mínimos cuadrados MSE\n",
        "print(f'El modelo Ridge tiene un R^2 de {ridge.score(X_test_scaled, y_test)}')         #Imprimir el coeficiente de determinación R^2"
      ],
      "metadata": {
        "colab": {
          "base_uri": "https://localhost:8080/",
          "height": 0
        },
        "id": "eCSyVh3JHT6s",
        "outputId": "b2096f69-d3ba-4a54-81d6-30c07154df94"
      },
      "execution_count": 59,
      "outputs": [
        {
          "output_type": "stream",
          "name": "stdout",
          "text": [
            "El modelo Ridge tiene un MSE DE :705.5569592137282\n",
            "El modelo Ridge tiene un R^2 de -1.1632677071604647e-05\n"
          ]
        }
      ]
    },
    {
      "cell_type": "markdown",
      "source": [
        "## Métricas\n",
        "\n",
        "El resultado es un `MSE` de 705.55 y un `R²` de -0.00001\n",
        "\n",
        "Este R² tan bajo nos indica que el modelo lineal, incluso con regularización Ridge, no es capaz de explicar la varianza en el rendimiento. Esto sugiere fuertemente que la relación entre las características y el rendimiento no es lineal y que se requieren modelos más complejos."
      ],
      "metadata": {
        "id": "sWh2p6WeRSJH"
      }
    },
    {
      "cell_type": "markdown",
      "source": [
        "# Lasso"
      ],
      "metadata": {
        "id": "Vf63CYRi7PAy"
      }
    },
    {
      "cell_type": "markdown",
      "source": [
        "## Regresión Lasso\n",
        "\n",
        "Al igual que Ridge, Lasso es una regresión lineal que aplica una penalización para prevenir el sobreajuste. Sin embargo, utiliza una penalización de regularización L1.\n",
        "$$\n",
        "J(\\theta) = \\sum_{i=1}^n \\left( y_i - \\hat{y}_i \\right)^2 + \\lambda \\sum_{j=1}^p |\\theta_j|\n",
        "$$\n",
        "\n",
        "La diferencia clave es que la penalización L1 tiene la capacidad de reducir los coeficientes de las características menos importantes **hasta exactamente cero**. Esto significa que Lasso no solo simplifica el modelo, sino que también realiza una forma de selección automática de características, eliminando efectivamente las variables que no considera útiles."
      ],
      "metadata": {
        "id": "vxX-6rMmRqqZ"
      }
    },
    {
      "cell_type": "markdown",
      "source": [
        "### Preprocesamiento\n",
        "\n",
        "Al igual que con Ridge, para Lasso **es necesario estandarizar los datos**, para que la penalización se aplique de manera justa a todos los coeficientes.  Igualmente se utilizarán los datos ya estandarizados en KNN."
      ],
      "metadata": {
        "id": "mc7M990-S9UG"
      }
    },
    {
      "cell_type": "markdown",
      "source": [
        "### Encontrar hiperparámetros\n",
        "\n",
        "Para encontrar el valor óptimo del hiperparámetro alpha. Usamos `LassoCV` que, al igual que `RidgeCV`, emplea validación cruzada para probar un rango de posibles alphas y seleccionar el que ofrezca el mejor rendimiento.\n",
        "\n",
        "Aquí usamos la misma lista de alphas que generamos en Ridge."
      ],
      "metadata": {
        "id": "WwjavPwsTjp3"
      }
    },
    {
      "cell_type": "code",
      "source": [
        "lassocv = LassoCV(alphas = lambdas)\n",
        "lassocv.fit(X_train_scaled, y_train)\n",
        "lassocv.alpha_\n"
      ],
      "metadata": {
        "colab": {
          "base_uri": "https://localhost:8080/",
          "height": 0
        },
        "id": "CAft9FNW7Q2L",
        "outputId": "2a02ae06-ac55-424d-ac8f-8bf0424963d2"
      },
      "execution_count": 54,
      "outputs": [
        {
          "output_type": "execute_result",
          "data": {
            "text/plain": [
              "np.float64(10000000000.0)"
            ]
          },
          "metadata": {},
          "execution_count": 54
        }
      ]
    },
    {
      "cell_type": "markdown",
      "source": [
        "El proceso identifica que el `alpha` óptimo para este modelo es 1000000000\n",
        "\n"
      ],
      "metadata": {
        "id": "AQLDGnryT3au"
      }
    },
    {
      "cell_type": "markdown",
      "source": [
        "## Entrenamiento\n",
        "\n",
        "Con el alpha óptimo de 0.01, entrenamos el modelo Lasso final, usamos lasso(alpha), ponemos los datos con `.fit`, y después predecimos con el conjunto de `test` para evaluar el modelo"
      ],
      "metadata": {
        "id": "6ZFWRaXpT-rj"
      }
    },
    {
      "cell_type": "code",
      "source": [
        "lasso = Lasso(alpha = 10000000000)\n",
        "lasso.fit(X_train_scaled, y_train)\n",
        "pred = lasso.predict(X_test_scaled)           # Uso del modelo para predecir el conjunto de Testeo\n",
        "print(f'El modelo Lasso tiene un MSE DE :{mean_squared_error(y_test, pred)}')          # Imprimit el error de mínimos cuadrados MSE\n",
        "print(f'El modelo Lasso tiene un R^2 de {lasso.score(X_test_scaled, y_test)}')         #Imprimir el coeficiente de determinación R^2\n"
      ],
      "metadata": {
        "colab": {
          "base_uri": "https://localhost:8080/",
          "height": 0
        },
        "id": "4QR-SgZIIp9w",
        "outputId": "0f5880df-62b3-40c0-ca89-044d8c88e279"
      },
      "execution_count": 56,
      "outputs": [
        {
          "output_type": "stream",
          "name": "stdout",
          "text": [
            "El modelo Lasso tiene un MSE DE :705.556959159372\n",
            "El modelo Lasso tiene un R^2 de -1.1632600030786477e-05\n"
          ]
        }
      ]
    },
    {
      "cell_type": "markdown",
      "source": [
        "## Métricas\n",
        "\n",
        "Obtenemos un `MSE` de 705.55 y un `R²` de -0.00001. Son prácticamente idénticos a los obtenidos con la Regresión Ridge.\n",
        "Ninguno de los modelos lineales fueron adecuados para capturar adecuadamente el comportamiento del problema. Podemos concluir que no se comportan de manera lineal."
      ],
      "metadata": {
        "id": "Pv7v4PFV7V90"
      }
    },
    {
      "cell_type": "markdown",
      "source": [
        "# Redes Neuronales"
      ],
      "metadata": {
        "id": "kjkWtd6Q78Cm"
      }
    },
    {
      "cell_type": "markdown",
      "source": [
        "## Neural Networks\n",
        "\n",
        "Aquí esta nuestra implementación de un modelo de Red Neuronal, uno de los algoritmos más potentes y flexibles del aprendizaje automático. Las redes neuronales son capaces de aprender relaciones no lineales y muy complejas en los datos."
      ],
      "metadata": {
        "id": "FoX6oqljU7pQ"
      }
    },
    {
      "cell_type": "markdown",
      "source": [
        "## Preprocesamiento de los datos\n",
        "Las redes neuronales son muy sensibles a la escala de los datos de entrada. Además, frameworks como PyTorch requieren que los datos estén en un formato específico llamado tensor.\n",
        "\n",
        "* Estandarización\n",
        " * Para que el entrenamiento sea más fácil, estandarizaremos los datos de las variables continuas, de manera que tengan media 0 y desviación estandar 1.\n",
        "\n",
        " * Para esto, en las columnas de variables contínuas usamos la media y desviación estandar de la respectiva columna\n",
        "\n",
        "$$col:=\\frac{col-mean}{standardeviation}$$"
      ],
      "metadata": {
        "id": "P9lXcUDhoI4x"
      }
    },
    {
      "cell_type": "markdown",
      "source": [
        "Aquí abrimos el dataset limpio"
      ],
      "metadata": {
        "id": "U7IOc6wQVzvg"
      }
    },
    {
      "cell_type": "code",
      "source": [
        "df = pd.read_csv('Agromex_seleccionado_preprocesado.csv')"
      ],
      "metadata": {
        "id": "22ipaDecO4vX"
      },
      "execution_count": 4,
      "outputs": []
    },
    {
      "cell_type": "markdown",
      "source": [
        "Esto asegura que todas las características contribuyan de manera equilibrada al aprendizaje. Vamos a estandarizar las columnas numéricas (Anio, Cosechada, etc.)\n",
        "\n",
        "Para ello, se utiliza `StandardScaler` de la librería `scikit-learn`, y se aplica únicamente a las columnas cuantitativas seleccionadas."
      ],
      "metadata": {
        "id": "A34HHVqRV4Jl"
      }
    },
    {
      "cell_type": "code",
      "source": [
        "# Selección de las columnas a estandarizar\n",
        "columnas_cuantitativas = ['Anio', 'Cosechada','Siniestrada','Precio','Valorproduccion']\n",
        "\n",
        "# Crear un objeto StandardScaler\n",
        "scaler = StandardScaler()\n",
        "\n",
        "# Aplicar la estandarización a las columnas seleccionadas\n",
        "df[columnas_cuantitativas] = scaler.fit_transform(df[columnas_cuantitativas])"
      ],
      "metadata": {
        "id": "VFZV7iOg8AnL"
      },
      "execution_count": 5,
      "outputs": []
    },
    {
      "cell_type": "markdown",
      "source": [
        "A diferencia de los modelos anteriores, aquí usaremos una división en tres conjuntos:\n",
        "* Entrenamiento (70%): Para entrenar el modelo y ajustar sus pesos.\n",
        "* Validación (15%): Para evaluar el rendimiento del modelo al final de cada época de entrenamiento y ajustar los hiperparámetros (como la arquitectura de la red). Nos ayuda a prevenir el sobreajuste.\n",
        "* Prueba (15%): Para la evaluación final y objetiva del mejor modelo obtenido.\n",
        "\n",
        "La división se hace de forma secuencial utilizando índices del DataFrame porque están repartidos a lo largo del tiempo y queremos mantener el orden."
      ],
      "metadata": {
        "id": "4V9yZ__BXO-l"
      }
    },
    {
      "cell_type": "code",
      "source": [
        "train_size = int(len(df) * 0.7)\n",
        "val_size = int(len(df) * 0.15)\n",
        "test_size = len(df) - train_size - val_size\n",
        "\n",
        "train = df.iloc[:train_size]\n",
        "val = df.iloc[train_size:train_size+val_size]\n",
        "test = df.iloc[train_size+val_size:]"
      ],
      "metadata": {
        "id": "eTLOAvZWK2EG"
      },
      "execution_count": 6,
      "outputs": []
    },
    {
      "cell_type": "markdown",
      "source": [
        "### Convertir los datos a tensores y prepararlos para alimentar la red\n",
        " PyTorch no trabaja directamente con DataFrames de pandas. Por ello,   crearemos una clase (*MyDataset*) que nos prepara los datos para alimentar la red neuronal, convirtiendolos a parejas ordenadas de tensores conteniento los atributos y la variable objetivo. Sus parámetros son: el dataset df y el nombre de la columna objetivo en el dataset.  Luego, usamos DataLoader para agrupar estos tensores en lotes (batches), lo cual hace el proceso de entrenamiento más eficiente.\n"
      ],
      "metadata": {
        "id": "oe0XyxIFtS1U"
      }
    },
    {
      "cell_type": "code",
      "source": [
        "class MyDataset():\n",
        "\n",
        "  def __init__(self,df,target_column):\n",
        "\n",
        "    y = df[target_column].astype(np.float32).values\n",
        "    X = df.drop(target_column, axis=1).astype(np.float32).values\n",
        "    self.X=torch.tensor(X,dtype=torch.float32)\n",
        "    self.y=torch.tensor(y,dtype=torch.float32)\n",
        "\n",
        "  def __len__(self):\n",
        "    return len(self.y)\n",
        "\n",
        "  def __getitem__(self,idx):\n",
        "    return self.X[idx],self.y[idx]"
      ],
      "metadata": {
        "id": "pztLdcNOK-nU"
      },
      "execution_count": 8,
      "outputs": []
    },
    {
      "cell_type": "markdown",
      "source": [
        "Usar la clase MyDataset para preparar cada conjunto en forma de tensores"
      ],
      "metadata": {
        "id": "0y9jhUqMX83P"
      }
    },
    {
      "cell_type": "code",
      "source": [
        "train_sec=MyDataset(train,'Rendimiento')\n",
        "test_sec=MyDataset(test,'Rendimiento')\n",
        "val_sec=MyDataset(val,'Rendimiento')"
      ],
      "metadata": {
        "id": "ZVKF0M4NLEcr"
      },
      "execution_count": 9,
      "outputs": []
    },
    {
      "cell_type": "markdown",
      "source": [
        "En esta celda se crean los DataLoader para los subconjuntos de entrenamiento, validación y prueba. Un DataLoader permite cargar los datos en pequeños lotes (`batch_size`) durante el entrenamiento del modelo, lo que es más eficiente en memoria y procesamiento. En este caso, los datos no se mezclany se especifica un tamaño de lote diferente para cada conjunto."
      ],
      "metadata": {
        "id": "_RAwoTGZYE_G"
      }
    },
    {
      "cell_type": "code",
      "source": [
        "\n",
        "train_data=DataLoader(\n",
        "    train_sec,\n",
        "    batch_size=2,\n",
        "    shuffle=False,\n",
        " )\n",
        "\n",
        "test_data=DataLoader(\n",
        "    test_sec,\n",
        "    batch_size=3,\n",
        "    shuffle=False,\n",
        " )\n",
        "\n",
        "val_data=DataLoader(\n",
        "    val_sec,\n",
        "    batch_size=3,\n",
        "    shuffle=False,\n",
        " )"
      ],
      "metadata": {
        "id": "WN3tKv__LGry"
      },
      "execution_count": 10,
      "outputs": []
    },
    {
      "cell_type": "markdown",
      "source": [
        "En esta celda se imprime el primer lote del conjunto de prueba (test_data) utilizando un ciclo for. Se muestra la forma (shape) de los datos y las etiquetas, así como su contenido, lo cual es útil para verificar que los DataLoader estén generando los lotes correctamente. El ciclo se rompe después del primer lote con break para evitar imprimir todo el conjunto."
      ],
      "metadata": {
        "id": "JRnYYI1OYOzB"
      }
    },
    {
      "cell_type": "code",
      "source": [
        "for i, (data, labels) in enumerate(test_data):\n",
        "  print(data.shape, labels.shape)\n",
        "  print(data,labels)\n",
        "  break;"
      ],
      "metadata": {
        "colab": {
          "base_uri": "https://localhost:8080/",
          "height": 0
        },
        "id": "XJFAk8etLJVl",
        "outputId": "3d5de4eb-8716-43ae-9af2-2d1aa22b06e9"
      },
      "execution_count": 11,
      "outputs": [
        {
          "output_type": "stream",
          "name": "stdout",
          "text": [
            "torch.Size([3, 52]) torch.Size([3])\n",
            "tensor([[-0.1944, -0.1092, -0.0715,  1.0356, -0.1657,  0.0000,  0.0000,  0.0000,\n",
            "          0.0000,  0.0000,  0.0000,  0.0000,  0.0000,  0.0000,  0.0000,  0.0000,\n",
            "          0.0000,  0.0000,  0.0000,  0.0000,  0.0000,  0.0000,  0.0000,  0.0000,\n",
            "          1.0000,  0.0000,  0.0000,  0.0000,  0.0000,  0.0000,  0.0000,  0.0000,\n",
            "          0.0000,  0.0000,  0.0000,  0.0000,  0.0000,  0.0000,  0.0000,  1.0000,\n",
            "          0.0000,  1.0000,  0.0000,  0.0000,  0.0000,  1.0000,  0.0000,  0.0000,\n",
            "          0.0000,  0.0000,  0.0000,  0.0000],\n",
            "        [-0.1944, -0.1118, -0.0715, -0.3331, -0.1710,  0.0000,  0.0000,  0.0000,\n",
            "          0.0000,  0.0000,  0.0000,  0.0000,  0.0000,  0.0000,  0.0000,  0.0000,\n",
            "          0.0000,  0.0000,  0.0000,  0.0000,  0.0000,  0.0000,  0.0000,  0.0000,\n",
            "          1.0000,  0.0000,  0.0000,  0.0000,  0.0000,  0.0000,  0.0000,  0.0000,\n",
            "          0.0000,  0.0000,  0.0000,  0.0000,  0.0000,  0.0000,  0.0000,  1.0000,\n",
            "          1.0000,  0.0000,  0.0000,  0.0000,  0.0000,  0.0000,  1.0000,  0.0000,\n",
            "          0.0000,  0.0000,  0.0000,  0.0000],\n",
            "        [-0.1944, -0.0978,  0.0837, -0.3331, -0.1578,  0.0000,  0.0000,  0.0000,\n",
            "          0.0000,  0.0000,  0.0000,  0.0000,  0.0000,  0.0000,  0.0000,  0.0000,\n",
            "          0.0000,  0.0000,  0.0000,  0.0000,  0.0000,  0.0000,  0.0000,  0.0000,\n",
            "          1.0000,  0.0000,  0.0000,  0.0000,  0.0000,  0.0000,  0.0000,  0.0000,\n",
            "          0.0000,  0.0000,  0.0000,  0.0000,  0.0000,  0.0000,  0.0000,  1.0000,\n",
            "          0.0000,  1.0000,  0.0000,  0.0000,  0.0000,  0.0000,  1.0000,  0.0000,\n",
            "          0.0000,  0.0000,  0.0000,  0.0000]]) tensor([0.7500, 2.0000, 1.1000])\n"
          ]
        }
      ]
    },
    {
      "cell_type": "markdown",
      "source": [
        "### Estructura de la red neuronal\n",
        "\n",
        "Se define la arquitectura de una red neuronal simple usando PyTorch. La red tiene una capa oculta totalmente conectada (fc1) con un número de neuronas definido por hidden_size, seguida por una función de activación sigmoide para introducir no linealidad. Finalmente, la salida pasa por otra capa lineal (fc2) que produce un único valor, ideal para tareas de regresión o clasificación binaria. El método forward define cómo se propaga la información a través de la red."
      ],
      "metadata": {
        "id": "HbnK1f9asrEb"
      }
    },
    {
      "cell_type": "code",
      "source": [
        "#Definir la arquitectura de la red neuonal.\n",
        "class Net(nn.Module):\n",
        "    def __init__(self, input_size, hidden_size):\n",
        "        super(Net, self).__init__()\n",
        "        self.fc1 = nn.Linear(input_size, hidden_size)\n",
        "        self.sigmoid = nn.Sigmoid()\n",
        "        self.fc2 = nn.Linear(hidden_size, 1)\n",
        "\n",
        "    def forward(self, x):\n",
        "        x = self.fc1(x)  # Capa oculta\n",
        "        x = self.sigmoid(x)  # Función de activación sigmoide\n",
        "        x = self.fc2(x)  # Capa de salida\n",
        "        return x"
      ],
      "metadata": {
        "id": "C65HQOI5LMk5"
      },
      "execution_count": 12,
      "outputs": []
    },
    {
      "cell_type": "markdown",
      "source": [
        "Se verifica si hay una GPU disponible para usar con PyTorch. Usar una GPU puede acelerar significativamente el entrenamiento de modelos. El resultado es un valor booleano que indica si la GPU está lista para usarse o no."
      ],
      "metadata": {
        "id": "aPnBMmwqY2ZD"
      }
    },
    {
      "cell_type": "code",
      "source": [
        "gpu_avail = torch.cuda.is_available()\n",
        "print(f\"Is the GPU available? {gpu_avail}\")"
      ],
      "metadata": {
        "colab": {
          "base_uri": "https://localhost:8080/",
          "height": 0
        },
        "id": "IKPys4E_LQOm",
        "outputId": "9b70f078-12a9-49c4-a3d5-e6a7e49e5802"
      },
      "execution_count": 13,
      "outputs": [
        {
          "output_type": "stream",
          "name": "stdout",
          "text": [
            "Is the GPU available? True\n"
          ]
        }
      ]
    },
    {
      "cell_type": "markdown",
      "source": [
        "Se define el dispositivo donde se ejecutarán los cálculos: si hay una GPU disponible se usa \"cuda\", y en caso contrario se usa la CPU (\"cpu\"). Esto permite que el código sea flexible y aproveche la aceleración por hardware cuando esté disponible."
      ],
      "metadata": {
        "id": "lz0wu5-_Y-xD"
      }
    },
    {
      "cell_type": "code",
      "source": [
        "device = torch.device(\"cuda\") if torch.cuda.is_available() else torch.device(\"cpu\")\n",
        "print(\"Device\", device)"
      ],
      "metadata": {
        "colab": {
          "base_uri": "https://localhost:8080/",
          "height": 0
        },
        "id": "vShQCUA2LQtt",
        "outputId": "348d1704-1660-425a-f95a-d9dfcd9e3be1"
      },
      "execution_count": 14,
      "outputs": [
        {
          "output_type": "stream",
          "name": "stdout",
          "text": [
            "Device cuda\n"
          ]
        }
      ]
    },
    {
      "cell_type": "markdown",
      "source": [
        "En esta celda se crea una instancia del modelo Net con 52 variables de entrada y 10 neuronas en la capa oculta. La selección de 10 neuronas y una tasa de aprendizaje (`lr`) de 0.01 para el optimizador Stochastic Gradient Descent (`SGD`) fue resultado de múltiples pruebas.\n",
        "\n",
        "Se realizaron más de 15 experimentos variando la cantidad de neuronas entre 5 y 20, y ajustando la tasa de aprendizaje entre 0.0001 y 0.05.\n",
        "\n",
        "Tras evaluar el rendimiento en el conjunto de validación, se encontró que esta combinación ofrecía un buen balance entre precisión y velocidad de convergencia. Finalmente, se establece la función de pérdida como el error cuadrático medio (`MSE`), adecuada para problemas de regresión."
      ],
      "metadata": {
        "id": "F5KvbK0L5BLY"
      }
    },
    {
      "cell_type": "code",
      "source": [
        "model=Net(52,15) #El 52 es el número de variables de input, lo tomamos de una celda previa en la que vimos el tamaño del batch\n",
        "\n",
        "#Definir el optimizador y la función de error (SGD es Stocastic Gradient Descent, lr es learning rate, que es el paso que da llamado -> \"alpha\")\n",
        "optimizer= torch.optim.SGD(model.parameters(), lr=0.01)\n",
        "criterion= torch.nn.MSELoss()"
      ],
      "metadata": {
        "id": "JUvzZYcs47NS"
      },
      "execution_count": 15,
      "outputs": []
    },
    {
      "cell_type": "markdown",
      "source": [
        "### Entrenando la red y guardando el mejor modelo\n",
        "\n",
        "A continuación definimos la función de entrenamiento."
      ],
      "metadata": {
        "id": "s68IiHxyADx-"
      }
    },
    {
      "cell_type": "code",
      "source": [
        "#pasamos el modelo al dispositivo GPU\n",
        "model.to(device)\n",
        "def train_model(model,optimizer,loss_module,train_loader,valid_loader,num_epochs):\n",
        "\n",
        "  valid_loss_min =np.inf  #Vamos a encontrar el menor valor de error de validación. Por eso la inicializmaos como 'infinito'\n",
        "\n",
        "  for i in range(num_epochs):\n",
        "    model.train()  #ponemos el modelo en modo entrenamiento. Es importante en otras arquitecturas como redes convolucionales.\n",
        "    train_loss = 0.0\n",
        "    valid_loss = 0.0\n",
        "\n",
        "    #Completar el código a continuación\n",
        "    for data, target in train_loader:\n",
        "\n",
        "        # mover los tensores de atributos y etiquetas al dispositivo GPU\n",
        "\n",
        "        data = data.to(device)\n",
        "        target = target.to(device)\n",
        "        # Reiniciar los gradientes\n",
        "        optimizer.zero_grad()\n",
        "        # forward pass: calcular la salida para los datos de entrada..\n",
        "        output = model(data)\n",
        "        # calculate the batch loss\n",
        "        loss = loss_module(output, target)\n",
        "        # backpropagation: cálculo de gradientes\n",
        "        loss.backward()\n",
        "        # actualizar los parámetros\n",
        "        optimizer.step()\n",
        "        # actualizar la cuenta de costos a lo largo de los lotes\n",
        "        train_loss += loss.item()*data.size(0)\n",
        "    # for data,labels in testloader:\n",
        "\n",
        "    train_loss = train_loss/len(train_loader.dataset)\n",
        "\n",
        "    model.eval() #Ponemos el modelo en modo evaluación.\n",
        "\n",
        "\n",
        "\n",
        "\n",
        "    #for param in model.parameters():\n",
        "    #  print(param.data)\n",
        "    # vamos a evaluar el modelo entrenado, calculando predicciones con el conjunto de validación\n",
        "    for data,target in valid_loader:\n",
        "      data=data.to(device)\n",
        "      target=target.to(device)\n",
        "      output=model(data)\n",
        "      loss= criterion(output, target)\n",
        "      valid_loss += loss.item()*data.size(0)\n",
        "    valid_loss = valid_loss/len(valid_loader.dataset)\n",
        "\n",
        "    #imprimir estadísticas de entrenamiento y validación\n",
        "    print('Epoch: {} \\tTraining Loss: {:.6f} \\tValidation Loss: {:.6f}'.format(\n",
        "        i, train_loss, valid_loss))\n",
        "\n",
        "\n",
        "    #Guardamos el modelo con el menor error de validación.\n",
        "    if valid_loss <= valid_loss_min:\n",
        "        print('Validation loss decreased ({:.6f} --> {:.6f}).  Saving model ...'.format(\n",
        "        valid_loss_min,\n",
        "        valid_loss))\n",
        "        torch.save(model.state_dict(), 'model_proy.pt')\n",
        "        valid_loss_min = valid_loss\n",
        "\n",
        "\n"
      ],
      "metadata": {
        "id": "J7iTBEVQM2bv"
      },
      "execution_count": 16,
      "outputs": []
    },
    {
      "cell_type": "markdown",
      "source": [
        "El proceso de entrenamiento se realiza a lo largo de varias épocas (en este caso, 15). En cada época, el modelo procesa todos los lotes de datos de entrenamiento, calcula la pérdida y el optimizador actualiza los pesos. Al final de cada época, se evalúa el modelo con el conjunto de validación."
      ],
      "metadata": {
        "id": "X-RSquN9arUp"
      }
    },
    {
      "cell_type": "code",
      "source": [
        "train_model(model, optimizer, criterion, train_data, val_data, 15)"
      ],
      "metadata": {
        "colab": {
          "base_uri": "https://localhost:8080/",
          "height": 0
        },
        "id": "QYfTEiHBM80H",
        "outputId": "0ea11197-fa7e-400a-bd2a-2ed6ea3b6da3"
      },
      "execution_count": 17,
      "outputs": [
        {
          "output_type": "stream",
          "name": "stderr",
          "text": [
            "/usr/local/lib/python3.11/dist-packages/torch/nn/modules/loss.py:610: UserWarning: Using a target size (torch.Size([2])) that is different to the input size (torch.Size([2, 1])). This will likely lead to incorrect results due to broadcasting. Please ensure they have the same size.\n",
            "  return F.mse_loss(input, target, reduction=self.reduction)\n",
            "/usr/local/lib/python3.11/dist-packages/torch/nn/modules/loss.py:610: UserWarning: Using a target size (torch.Size([3])) that is different to the input size (torch.Size([3, 1])). This will likely lead to incorrect results due to broadcasting. Please ensure they have the same size.\n",
            "  return F.mse_loss(input, target, reduction=self.reduction)\n"
          ]
        },
        {
          "output_type": "stream",
          "name": "stdout",
          "text": [
            "Epoch: 0 \tTraining Loss: 495.933870 \tValidation Loss: 969.670545\n",
            "Validation loss decreased (inf --> 969.670545).  Saving model ...\n",
            "Epoch: 1 \tTraining Loss: 512.549267 \tValidation Loss: 1086.987169\n",
            "Epoch: 2 \tTraining Loss: 528.647322 \tValidation Loss: 1044.721617\n",
            "Epoch: 3 \tTraining Loss: 539.324961 \tValidation Loss: 1013.162273\n",
            "Epoch: 4 \tTraining Loss: 540.503567 \tValidation Loss: 1024.609343\n",
            "Epoch: 5 \tTraining Loss: 521.779492 \tValidation Loss: 980.774489\n",
            "Epoch: 6 \tTraining Loss: 517.355792 \tValidation Loss: 1017.480664\n",
            "Epoch: 7 \tTraining Loss: 516.738657 \tValidation Loss: 1019.132414\n",
            "Epoch: 8 \tTraining Loss: 556.687285 \tValidation Loss: 1017.277345\n",
            "Epoch: 9 \tTraining Loss: 564.246188 \tValidation Loss: 1028.133138\n",
            "Epoch: 10 \tTraining Loss: 555.492495 \tValidation Loss: 1019.256004\n",
            "Epoch: 11 \tTraining Loss: 549.380887 \tValidation Loss: 1002.022990\n",
            "Epoch: 12 \tTraining Loss: 552.435779 \tValidation Loss: 1029.989478\n",
            "Epoch: 13 \tTraining Loss: 543.139666 \tValidation Loss: 1029.898143\n",
            "Epoch: 14 \tTraining Loss: 544.396050 \tValidation Loss: 988.868553\n"
          ]
        }
      ]
    },
    {
      "cell_type": "markdown",
      "source": [
        "Cargamos el mejor modelo obtenido del entrenamiento."
      ],
      "metadata": {
        "id": "cZeVo9TJ9dTk"
      }
    },
    {
      "cell_type": "code",
      "source": [
        "model.load_state_dict(torch.load('model_proy.pt'))"
      ],
      "metadata": {
        "id": "V35GtM169Wdd",
        "colab": {
          "base_uri": "https://localhost:8080/",
          "height": 0
        },
        "outputId": "ad5cac01-03d6-470e-c00d-e10553e26dcf"
      },
      "execution_count": 35,
      "outputs": [
        {
          "output_type": "execute_result",
          "data": {
            "text/plain": [
              "<All keys matched successfully>"
            ]
          },
          "metadata": {},
          "execution_count": 35
        }
      ]
    },
    {
      "cell_type": "markdown",
      "source": [
        "Se recorren los parámetros del modelo que requieren ser actualizados durante el entrenamiento (aquellos con requires_grad=True). Para cada uno, se imprime su nombre y sus valores actuales. Esto es útil para inspeccionar los pesos y sesgos de las diferentes capas del modelo antes o durante el proceso de entrenamiento."
      ],
      "metadata": {
        "id": "mdKNZPHkcgk-"
      }
    },
    {
      "cell_type": "code",
      "source": [
        "for name, param in model.named_parameters():\n",
        "    if param.requires_grad:\n",
        "        print (name, param.data)"
      ],
      "metadata": {
        "colab": {
          "base_uri": "https://localhost:8080/",
          "height": 0
        },
        "id": "1SMR9J0dNI78",
        "outputId": "3e7370cc-6cc3-46ec-ce0e-aa71cf57206f"
      },
      "execution_count": 36,
      "outputs": [
        {
          "output_type": "stream",
          "name": "stdout",
          "text": [
            "fc1.weight tensor([[-5.0872e-01, -9.4688e+00, -5.4463e+00,  2.2160e-01, -9.8928e+00,\n",
            "          4.9772e+00, -1.1865e+00, -4.4040e-02, -5.2877e+00, -7.7712e-01,\n",
            "         -6.6824e+00,  2.1231e-01,  1.5366e+00, -1.9288e+00, -7.5464e-01,\n",
            "          1.2242e+01, -3.2326e+00,  1.0623e+00, -2.8103e+00, -6.4210e+00,\n",
            "          8.0853e+00,  3.9134e+00, -2.7991e+00, -9.0933e-01, -2.5045e-01,\n",
            "          2.4489e+00,  2.1266e+00, -1.4529e+00, -4.5368e+00, -3.3159e+00,\n",
            "         -5.7259e+00, -1.3280e+00, -5.0527e+00, -1.3695e+00, -3.1073e+00,\n",
            "         -5.0607e+00, -1.9785e+00, -1.1330e+01, -4.5540e+00, -1.3308e+01,\n",
            "         -1.1689e+01, -1.7533e+01,  3.8226e+00, -2.0594e+00, -5.5879e+00,\n",
            "         -1.6917e+01, -1.5584e+01, -6.9581e-02, -6.8012e+00,  1.8984e+01,\n",
            "          5.0735e+00, -1.0203e+01],\n",
            "        [ 1.6929e+01, -4.4975e+00,  1.0308e-01,  6.7599e+00,  3.8678e+00,\n",
            "          2.0167e+00, -1.5883e+00,  1.7432e+00, -4.1254e+00, -3.9094e+00,\n",
            "         -5.8116e+00, -5.2235e-01,  2.5807e+00,  2.1634e+00, -1.7437e+00,\n",
            "          9.6140e+00, -9.2727e+00,  5.8694e+00, -2.7567e+00, -1.9838e+01,\n",
            "         -1.2869e+00,  6.1357e+00, -1.0013e+00, -2.3159e+00,  2.4848e+00,\n",
            "          1.0124e+01,  2.3039e+01, -1.1763e+00, -5.0909e+00, -5.4188e+00,\n",
            "         -1.4964e+00, -4.5463e+00, -5.5762e+00, -3.0133e+00, -8.7843e+00,\n",
            "         -9.7101e+00,  4.6235e+00, -2.3870e+01, -8.0127e+00,  2.4894e+00,\n",
            "         -6.9035e+00, -2.2335e+01, -3.7417e+00,  4.9084e+00, -1.4582e+00,\n",
            "         -2.9276e+01, -3.1407e+01, -2.7938e+00,  3.9415e+00,  2.1595e+01,\n",
            "          1.5389e+01, -6.2677e+00],\n",
            "        [ 1.7742e+00, -1.3954e+00,  5.9536e-01, -2.7519e+00,  3.5259e-01,\n",
            "         -3.0705e+00, -1.5750e+00, -3.0061e-01, -2.1465e+00, -2.4826e-01,\n",
            "         -3.2008e+00,  2.4144e-01,  6.9778e-01, -1.5585e+00, -2.2891e-02,\n",
            "          1.3688e+00, -8.1480e-01,  6.6951e+00, -2.0091e-01, -2.2132e+00,\n",
            "          7.9345e-01, -3.2992e-01, -9.1886e-01,  2.8862e+00, -3.3980e-02,\n",
            "         -9.6046e-03, -3.1998e+00,  5.7954e-01, -1.6318e+00, -1.6348e+00,\n",
            "         -1.6741e-01, -8.0356e-01, -2.7343e+00,  1.7350e-01,  4.3795e-01,\n",
            "         -1.5372e+00,  1.5185e-02, -9.1239e+00,  1.6126e-01, -4.9355e+00,\n",
            "         -6.7068e+00, -7.2375e+00, -4.2184e+00, -6.9809e-02, -4.2419e+00,\n",
            "         -1.0529e+01, -5.6677e+00,  1.0528e-01, -1.6424e+00,  1.0015e+01,\n",
            "          2.3881e+00, -4.7333e-02],\n",
            "        [ 6.4368e+00,  5.1840e-01,  1.3701e+00, -2.2707e+00,  1.8970e+00,\n",
            "         -8.4885e-02, -3.0965e-01, -7.6405e-01, -3.7861e+00, -1.4937e+00,\n",
            "         -4.6067e+00,  1.2312e-01,  3.1791e-01, -2.1337e+00, -1.3084e+00,\n",
            "          2.5269e+00, -2.0244e+00,  3.4666e+00, -4.2314e-01, -5.3050e+00,\n",
            "          1.9853e+01,  1.6061e+00, -2.0060e+00, -5.8437e-01, -3.8185e+00,\n",
            "          7.8019e+00, -2.0179e+00, -1.4781e-01, -7.4809e+00, -2.2907e+00,\n",
            "         -2.8552e+00, -9.7237e-01, -4.2514e+00, -1.0336e+00, -4.2003e-01,\n",
            "         -9.6864e+00, -1.8207e+00, -1.7202e+01, -2.6547e+00, -5.7612e+00,\n",
            "         -1.2628e+01, -1.2979e+01, -2.5795e+00, -1.1541e+00, -6.7583e+00,\n",
            "         -1.2319e+01, -1.0836e+01, -1.8362e+00, -3.4376e+00,  1.6936e+01,\n",
            "         -1.4120e+00, -1.8964e+00],\n",
            "        [ 2.6770e+00, -8.1119e-01,  3.5235e-01, -2.6112e-01,  1.4790e-01,\n",
            "         -3.8227e-01, -8.6586e-01, -1.5117e+00, -3.6715e+00, -3.4800e-02,\n",
            "         -1.4220e+00, -1.3534e-01,  4.2906e-01, -1.8865e+00,  8.4681e-02,\n",
            "          4.8780e+00, -1.9083e+00,  1.0689e+00,  5.9281e-01, -1.8156e+00,\n",
            "          1.7461e-01, -1.4846e+00,  1.5649e+00,  1.1020e+00,  6.5844e-01,\n",
            "         -7.4836e-01,  1.1007e+00, -1.6884e+00,  4.1031e-01, -2.2198e+00,\n",
            "         -3.9650e-01, -1.7165e+00,  1.4953e-02,  2.4893e-01, -6.0428e-02,\n",
            "         -1.1845e+00,  1.1708e-01, -3.2659e+00, -1.2471e+00, -5.9842e+00,\n",
            "         -4.7070e+00, -5.8649e+00, -2.0864e+00, -1.8311e+00, -3.7944e+00,\n",
            "         -7.1792e+00, -2.1826e+00, -1.1524e+00, -7.8926e-01,  8.0980e+00,\n",
            "         -3.1939e-01,  1.1017e+00],\n",
            "        [ 1.1965e+01, -3.7483e-01, -1.1094e+00, -4.4438e+00,  1.1786e-02,\n",
            "         -7.8399e-01, -1.4958e+00, -2.6235e+00, -1.2660e+00, -5.1271e+00,\n",
            "         -5.4848e+00, -1.3211e-01, -4.3941e-01, -2.7757e+00, -2.5757e+00,\n",
            "         -2.5055e+00, -5.7638e+00, -5.4451e-01, -2.9324e+00, -9.7886e+00,\n",
            "          1.4821e+00,  5.0194e+00,  1.6997e+00,  1.1349e+01,  1.5905e+01,\n",
            "          1.6083e+01, -4.0805e+00, -5.6273e-01, -4.0518e+00, -6.1944e+00,\n",
            "          1.1593e+00, -9.6714e-01, -1.4486e+00, -8.8484e-01, -4.5576e+00,\n",
            "         -1.7743e+01, -2.6150e+00, -1.4864e+01, -4.4767e+00, -1.4898e+01,\n",
            "         -6.5469e+00, -2.7686e+01, -2.2490e+00, -3.0721e+00, -1.5386e+01,\n",
            "         -2.1317e+01, -1.3739e+01, -4.5239e+00, -3.2511e+00,  3.3000e+01,\n",
            "         -9.4463e-01, -3.1588e+00],\n",
            "        [ 1.1157e+00, -4.6587e-01,  6.7398e-01, -9.3114e+00, -9.1896e+00,\n",
            "         -1.1419e+00, -1.2184e+00, -2.3754e+00, -1.8436e+00, -4.0070e-02,\n",
            "         -1.7557e+00,  4.3794e-01, -8.4076e-01, -1.1468e+00,  1.8360e+00,\n",
            "          2.0783e+00, -5.0853e-01,  1.9262e+00,  2.1543e-01, -6.8084e-01,\n",
            "         -1.7884e+00,  1.8824e-01, -5.8413e-01,  2.0275e+00, -1.0215e+00,\n",
            "          1.0610e+00,  1.1830e+00, -4.7362e+00,  8.4635e-01, -2.1073e+00,\n",
            "         -7.1518e-01, -8.5758e-01, -3.6055e-01, -8.2828e-02, -5.6530e-01,\n",
            "         -2.6541e+00,  1.2592e+00, -9.3083e+00, -8.0250e-01, -4.1209e+00,\n",
            "         -7.3588e+00, -6.9985e+00, -2.8162e+00, -7.2950e-01, -3.2501e+00,\n",
            "         -8.2156e+00, -3.7160e+00, -5.4019e-01, -6.7098e-01,  6.9204e+00,\n",
            "          3.6816e-01, -1.6820e+00],\n",
            "        [ 9.9964e+00, -1.3809e+00,  1.0608e+00, -2.5167e+00, -2.3484e+00,\n",
            "          4.4599e+00, -1.1306e+00,  3.5357e+00, -1.5155e+00, -3.2552e+00,\n",
            "         -3.7210e+00, -2.1102e-01,  1.0891e+00, -2.3047e-01, -2.3875e+00,\n",
            "          1.8661e+01, -5.5804e+00,  8.5918e-01, -1.9665e+00, -9.8905e+00,\n",
            "         -2.0494e+00,  6.6567e-01,  7.9109e-01,  2.7221e+00,  2.2139e+00,\n",
            "         -2.6739e+00, -5.1604e+00, -8.7222e-01,  4.6916e+00, -3.1328e+00,\n",
            "          9.3129e+00, -1.3584e+00, -5.2831e+00, -8.4297e+00, -2.7125e+00,\n",
            "         -1.1645e+01, -2.8904e-01, -1.5214e+01, -1.9283e+00, -6.4444e+00,\n",
            "         -3.0975e+00, -2.0665e+01, -6.1651e+00,  5.3087e+00, -3.7946e+00,\n",
            "         -1.7204e+01, -1.6378e+01, -2.8766e+00, -1.1119e+01,  1.2868e+01,\n",
            "          1.8254e+01, -2.3636e+00],\n",
            "        [-1.1023e+00, -1.2211e+01, -3.0884e+00, -5.0791e+00,  1.3148e+01,\n",
            "          3.4013e+00, -4.3051e-01, -6.4110e-01, -9.6120e-01,  4.5120e-01,\n",
            "          6.5054e+00, -6.3267e-03,  6.2029e+00,  6.2728e-01, -1.6279e+00,\n",
            "          2.1061e+00, -9.6322e+00,  7.1651e+00,  2.4239e+00,  1.0673e+00,\n",
            "         -4.1223e+00,  7.6254e+00, -2.0807e+00,  1.8943e+00,  3.9253e+00,\n",
            "          7.9872e+00,  6.3446e-01, -1.7752e+00, -8.6667e-01, -8.6288e+00,\n",
            "          6.4572e+00, -1.1711e+00, -6.5755e+00, -2.1786e+00, -3.7607e+00,\n",
            "         -2.0666e+01,  5.5573e+00, -7.2043e+00,  9.9766e+00, -4.6447e+00,\n",
            "          8.5564e-01, -2.6955e+00,  1.5369e+01, -9.9442e+00, -7.1664e+00,\n",
            "         -1.1126e+01, -2.2354e+01,  2.6404e+01, -1.1819e+01,  1.8890e+01,\n",
            "          1.3042e+01, -1.2769e+01],\n",
            "        [ 5.3590e+00, -9.3513e-01, -1.8163e-01, -2.0254e+00, -2.6500e+00,\n",
            "         -3.6607e-01, -1.8534e+00, -1.3927e+00, -3.4348e+00,  8.9362e-02,\n",
            "         -9.5476e-01, -7.6210e-02,  3.2231e-02, -2.3829e+00, -1.5093e+00,\n",
            "          1.8728e+00, -8.7213e-01,  1.2650e+00,  1.3937e+00, -2.1822e+00,\n",
            "          1.5009e+00,  8.7350e-01,  1.3897e+00,  2.4494e+00, -3.0743e+00,\n",
            "          2.6273e+00, -2.9752e+00, -1.4715e+00,  2.8800e-01, -3.0871e+00,\n",
            "         -8.3522e-01, -1.1700e+00, -2.5067e-01,  1.0817e-01, -1.3706e+00,\n",
            "         -6.3661e-01,  1.2563e+00, -1.0146e+01, -9.1840e-01, -3.8948e+00,\n",
            "         -7.3437e+00, -7.3944e+00, -2.4708e+00, -2.1531e+00, -3.2238e+00,\n",
            "         -8.2605e+00, -6.2831e+00, -4.7612e-01, -1.9408e+00,  1.1123e+01,\n",
            "         -1.3687e+00,  6.1550e-01],\n",
            "        [ 1.6035e+01, -2.0177e+00,  1.0813e+00,  8.2821e-01,  1.0392e-01,\n",
            "          1.0562e+00, -2.3221e+00, -4.1652e-01, -6.6540e-01, -3.8594e+00,\n",
            "         -2.2244e+00, -6.2092e-01,  3.5747e-01,  8.3906e-01, -1.3148e-01,\n",
            "          1.4660e+01, -4.7528e+00,  2.4470e+00, -5.5251e+00, -1.5569e+01,\n",
            "          1.2438e+01, -7.2695e-01, -3.6383e+00,  7.8636e+00,  8.2691e+00,\n",
            "          7.1721e+00, -1.3695e+00, -1.3123e-01, -3.1763e+00, -9.1544e+00,\n",
            "          5.6555e+00, -2.8885e+00, -9.1841e+00, -2.0516e+00, -1.0952e+00,\n",
            "         -1.2749e+01, -1.4204e+01, -1.9218e+01, -3.7944e+00, -1.2517e+01,\n",
            "         -9.0852e+00, -2.6364e+01, -2.5029e+00, -3.2152e+00, -7.7444e+00,\n",
            "         -2.3844e+01, -7.9930e+00, -4.5194e-01, -3.5108e+00,  2.6219e+01,\n",
            "         -7.7228e+00, -4.6856e+00],\n",
            "        [ 7.5788e+00, -1.3447e+00, -4.2264e-01, -6.6449e+00, -3.2468e-01,\n",
            "         -2.0517e-01, -1.6810e+00, -9.6217e-01, -8.4907e-01,  4.7552e-03,\n",
            "         -1.0793e+00,  2.1699e-01,  4.3193e-01, -1.2614e+00,  1.3348e-01,\n",
            "          8.3740e-01, -1.0999e-02,  3.3077e+00, -3.8093e-01, -6.3597e-01,\n",
            "          1.5189e+00,  1.7022e+00, -2.0157e-01, -1.0380e-01,  2.7408e+00,\n",
            "          1.4274e+00, -2.5118e-02, -1.4817e+00, -7.0736e-01, -9.7391e-01,\n",
            "         -8.6316e-01, -1.1504e+00, -8.8177e+00, -4.6402e+00, -7.9113e-01,\n",
            "         -9.8364e-01,  5.0529e-01, -7.6927e+00, -1.9673e+00, -4.9637e+00,\n",
            "         -9.1176e+00, -5.6972e+00, -4.1430e+00, -1.0475e+00, -3.1266e+00,\n",
            "         -8.5533e+00, -2.6221e+00, -3.1949e+00,  8.3801e-01,  6.4591e+00,\n",
            "          1.4763e+00, -7.9516e-01],\n",
            "        [ 7.4506e+00, -9.5237e-01,  5.1482e-01, -1.1045e+00, -4.4724e+00,\n",
            "         -2.1360e-01, -1.7593e+00,  2.5377e-01, -1.6061e+00, -2.0705e+00,\n",
            "         -1.0759e+00, -1.0491e-01,  4.9616e-01, -1.0309e+00, -2.6518e-01,\n",
            "          2.7678e+00, -5.0608e-01,  1.5900e+00, -3.1141e+00, -4.8842e+00,\n",
            "          1.8493e-01,  3.4562e+00, -3.8245e-01,  6.5340e-02,  8.9249e-01,\n",
            "          3.7588e+00,  3.2167e-01, -1.0258e+00, -7.3107e-02, -2.5704e+00,\n",
            "         -9.5760e-02, -1.0384e+00, -4.3272e-01, -3.6524e-02, -1.2576e+00,\n",
            "         -2.5391e+00,  1.8345e+00, -4.3246e+00, -1.2422e+00, -4.0777e+00,\n",
            "         -4.5039e+00, -5.2324e+00, -3.8087e+00, -6.8971e-01, -2.3525e+00,\n",
            "         -6.7743e+00, -3.2466e+00, -9.9436e-01, -4.1531e-01,  1.0572e+01,\n",
            "          2.0427e-01, -2.3595e+00],\n",
            "        [ 8.5037e+00, -1.3913e-01, -5.2643e-01, -5.8734e-01, -8.4856e-01,\n",
            "         -6.0005e-01, -1.5970e+00,  4.6020e-01, -1.9432e+00, -1.1697e+00,\n",
            "         -3.3634e+00, -6.0717e-03, -8.2006e-01, -2.2787e+00, -2.2951e+00,\n",
            "          2.0786e+01, -3.9931e+00, -2.4398e+00, -2.5317e+00, -6.4951e+00,\n",
            "          1.3718e+00, -4.6407e+00, -7.7778e-01,  8.1566e-01,  9.3167e+00,\n",
            "         -1.3568e+00, -1.3855e+00, -1.3094e+00,  8.3413e-01, -2.0160e+00,\n",
            "         -2.6985e-01, -9.0195e-01, -4.7990e-01, -3.2603e-01, -2.2598e+00,\n",
            "         -7.2407e+00,  5.6804e-01, -6.5391e+00,  1.2580e+00, -1.2376e+01,\n",
            "         -7.0140e+00, -1.0918e+01, -3.7674e+00, -1.8610e+00,  3.9151e+00,\n",
            "         -1.2751e+01, -6.5636e+00,  1.7027e+00, -4.6032e+00,  1.0137e+01,\n",
            "         -1.8991e+00, -2.2784e+00],\n",
            "        [ 1.9377e+00, -2.2711e-01, -1.7166e+00, -2.7073e+00, -4.5063e+00,\n",
            "          5.1496e-01, -8.5346e-01,  4.2233e-01, -6.1413e-01, -4.4215e-01,\n",
            "          1.1211e+00, -1.0930e-01,  5.1297e-01, -2.5932e-01, -1.5086e-02,\n",
            "          2.6437e+00, -1.8360e+00,  1.1565e+01,  1.8857e+00, -4.3175e+00,\n",
            "         -2.4481e+00, -7.3648e-01,  9.6132e-01, -2.9714e+00, -1.7861e+00,\n",
            "         -4.0582e-01,  3.4297e+00, -4.0781e+00, -1.0556e+00, -3.4907e+00,\n",
            "         -4.4304e+00, -1.6260e+00, -8.2543e-01,  3.2364e-01, -2.5047e+00,\n",
            "         -4.4288e+00, -4.0498e-01,  8.0487e-01,  1.4143e+00, -1.8781e+01,\n",
            "         -4.2294e+00, -1.2340e+01, -1.4532e+00,  1.0626e+00, -2.3323e+00,\n",
            "         -1.0205e+01, -5.5613e+00,  4.0190e+00, -1.7810e+00, -3.8268e+00,\n",
            "         -2.9439e+00,  6.4462e+00]], device='cuda:0')\n",
            "fc1.bias tensor([-29.0257, -29.2576, -13.9836, -25.5870, -10.5324, -34.2628, -14.2228,\n",
            "        -23.7005,  -1.9306, -14.7459, -35.5513, -14.8043,  -9.6708, -18.0173,\n",
            "        -16.5136], device='cuda:0')\n",
            "fc2.weight tensor([[20.2664, 26.5404, 28.7906, 33.2682,  7.1875, 34.9017, 15.1697, 17.4575,\n",
            "         13.9776, 17.4883, 30.1691, 21.8712, 15.5709, 21.8014, 27.5673]],\n",
            "       device='cuda:0')\n",
            "fc2.bias tensor([6.2875], device='cuda:0')\n"
          ]
        }
      ]
    },
    {
      "cell_type": "markdown",
      "source": [
        "## Métricas\n",
        "\n",
        "El resultado final es una Pérdida de Prueba (Test Loss) de 788. Este valor es el MSE final del modelo. Si lo comparamos con el MSE de los otros modelos, es evidente que esta configuración de red neuronal, a pesar de su complejidad, no logró un buen rendimiento en este problema y fue superada por los modelos de árbol"
      ],
      "metadata": {
        "id": "VLNtaofda9gq"
      }
    },
    {
      "cell_type": "code",
      "source": [
        "test_loss=0.0\n",
        "\n",
        "criterion= nn.MSELoss()\n",
        "for data, target in test_data:\n",
        "  data=data.to(device)\n",
        "  target=target.to(device)\n",
        "  output=model(data)\n",
        "  loss= criterion(output,target)\n",
        "  test_loss += loss.item()*data.size(0)\n",
        "test_loss = test_loss/len(test_data.dataset)\n",
        "print('Test Loss: {:.6f}\\n'.format(test_loss))"
      ],
      "metadata": {
        "colab": {
          "base_uri": "https://localhost:8080/",
          "height": 0
        },
        "id": "vrzuhO59NMfZ",
        "outputId": "b9efcdac-7f7c-421f-87c4-cf5cd871efce"
      },
      "execution_count": 37,
      "outputs": [
        {
          "output_type": "stream",
          "name": "stderr",
          "text": [
            "/usr/local/lib/python3.11/dist-packages/torch/nn/modules/loss.py:610: UserWarning: Using a target size (torch.Size([3])) that is different to the input size (torch.Size([3, 1])). This will likely lead to incorrect results due to broadcasting. Please ensure they have the same size.\n",
            "  return F.mse_loss(input, target, reduction=self.reduction)\n"
          ]
        },
        {
          "output_type": "stream",
          "name": "stdout",
          "text": [
            "Test Loss: 788.718246\n",
            "\n"
          ]
        },
        {
          "output_type": "stream",
          "name": "stderr",
          "text": [
            "/usr/local/lib/python3.11/dist-packages/torch/nn/modules/loss.py:610: UserWarning: Using a target size (torch.Size([2])) that is different to the input size (torch.Size([2, 1])). This will likely lead to incorrect results due to broadcasting. Please ensure they have the same size.\n",
            "  return F.mse_loss(input, target, reduction=self.reduction)\n"
          ]
        }
      ]
    },
    {
      "cell_type": "markdown",
      "source": [
        "# LightGBM"
      ],
      "metadata": {
        "id": "cFe_pTsL00er"
      }
    },
    {
      "cell_type": "markdown",
      "source": [
        "## Modelo Investigado\n",
        "\n",
        "LightGBM (Light Gradient Boosting Machine) es un framework de gradient boosting, una técnica de ensamblado muy poderosa. A diferencia de los modelos que construyen muchos árboles de forma independiente (como Random Forest), el gradient boosting los construye de forma secuencial: cada nuevo árbol se entrena para corregir los errores cometidos por el conjunto de árboles anteriores. Esto permite que el modelo se enfoque en los casos más difíciles y logre un rendimiento muy alto. LightGBM es conocido por su increíble velocidad y eficiencia, especialmente en grandes conjuntos de datos.\n",
        "\n",
        "### Preprocesamiento\n",
        "Al ser un modelo basado en árboles de decisión, LightGBM no requiere que las características estén estandarizadas. Es robusto a las diferentes escalas de las variables, por lo que podemos usar los datos directamente después del preprocesamiento inicial."
      ],
      "metadata": {
        "id": "cTsz_cz4bTwb"
      }
    },
    {
      "cell_type": "markdown",
      "source": [
        "Se instala la librería"
      ],
      "metadata": {
        "id": "Rd37Yb8Kcxpg"
      }
    },
    {
      "cell_type": "code",
      "source": [
        "!pip install lightgbm"
      ],
      "metadata": {
        "colab": {
          "base_uri": "https://localhost:8080/",
          "height": 0
        },
        "id": "YyQC44T44hpr",
        "outputId": "9439db7c-acf1-4a19-fe51-c4ddf89aaf60"
      },
      "execution_count": 38,
      "outputs": [
        {
          "output_type": "stream",
          "name": "stdout",
          "text": [
            "Requirement already satisfied: lightgbm in /usr/local/lib/python3.11/dist-packages (4.5.0)\n",
            "Requirement already satisfied: numpy>=1.17.0 in /usr/local/lib/python3.11/dist-packages (from lightgbm) (2.0.2)\n",
            "Requirement already satisfied: scipy in /usr/local/lib/python3.11/dist-packages (from lightgbm) (1.15.3)\n"
          ]
        }
      ]
    },
    {
      "cell_type": "markdown",
      "source": [
        "Importamos las bibliotecas que son necesarias para este modelo"
      ],
      "metadata": {
        "id": "nKGV688oc48a"
      }
    },
    {
      "cell_type": "code",
      "source": [
        "from sklearn.model_selection import GridSearchCV\n",
        "from lightgbm import LGBMRegressor\n"
      ],
      "metadata": {
        "id": "OFaFPvza5MAW"
      },
      "execution_count": 39,
      "outputs": []
    },
    {
      "cell_type": "markdown",
      "source": [
        "Como este modelo no requiere de estandarización, cargamos de nuevo los datos limpios"
      ],
      "metadata": {
        "id": "aIOTuQcOdBdy"
      }
    },
    {
      "cell_type": "code",
      "source": [
        "df = pd.read_csv('Agromex_seleccionado_preprocesado.csv')"
      ],
      "metadata": {
        "id": "jt0OZTrj06Va"
      },
      "execution_count": 40,
      "outputs": []
    },
    {
      "cell_type": "markdown",
      "source": [
        "Establecemos la variable objetivo y la eliminamos de las otras variables"
      ],
      "metadata": {
        "id": "u7uR2J4fdL-l"
      }
    },
    {
      "cell_type": "code",
      "source": [
        "X = df.drop('Rendimiento', axis=1)\n",
        "y = df['Rendimiento']"
      ],
      "metadata": {
        "id": "1CbGafkN08d7"
      },
      "execution_count": 41,
      "outputs": []
    },
    {
      "cell_type": "markdown",
      "source": [
        "Dividimos en conjuntos de entrenamiento y prueba"
      ],
      "metadata": {
        "id": "qG9NTnkXdIs_"
      }
    },
    {
      "cell_type": "code",
      "source": [
        "X_train, X_test, y_train, y_test = train_test_split(X, y, test_size=0.2)"
      ],
      "metadata": {
        "id": "Qvq0rbzO1FS1"
      },
      "execution_count": 42,
      "outputs": []
    },
    {
      "cell_type": "markdown",
      "source": [
        "## Hiperparámetros\n",
        "\n",
        "Para encontrar los mejores hiperparámetros, utilizamos GridSearchCV, una herramienta que automatiza y realiza una búsqueda exhaustiva sobre una \"parrilla\" (grid) de parámetros que le especifiquemos. Al igual que en Ridge o Lasso"
      ],
      "metadata": {
        "id": "eoRKGAu6brv5"
      }
    },
    {
      "cell_type": "code",
      "source": [
        "lgbm = LGBMRegressor()\n",
        "\n",
        "# Definir hiperparámetros a probar\n",
        "param_grid = {\n",
        "    'n_estimators': [100, 200],\n",
        "    'max_depth': [5, 10],\n",
        "    'learning_rate': [0.01, 0.1]\n",
        "}\n"
      ],
      "metadata": {
        "id": "vdDhXwM_5E3U"
      },
      "execution_count": 43,
      "outputs": []
    },
    {
      "cell_type": "code",
      "source": [
        "grid_search = GridSearchCV(estimator=lgbm, param_grid=param_grid, cv=3, n_jobs=-1, verbose=1)\n",
        "grid_search.fit(X_train, y_train)\n",
        "\n",
        "# Ver los mejores hiperparámetros\n",
        "print(\"Mejores parámetros:\", grid_search.best_params_)"
      ],
      "metadata": {
        "colab": {
          "base_uri": "https://localhost:8080/",
          "height": 0
        },
        "id": "mk_-VShdb53l",
        "outputId": "a7577b83-d9e5-4827-8637-bd24b2321548"
      },
      "execution_count": 44,
      "outputs": [
        {
          "output_type": "stream",
          "name": "stdout",
          "text": [
            "Fitting 3 folds for each of 8 candidates, totalling 24 fits\n",
            "[LightGBM] [Warning] Found whitespace in feature_names, replace with underlines\n",
            "[LightGBM] [Info] Auto-choosing row-wise multi-threading, the overhead of testing was 0.003884 seconds.\n",
            "You can set `force_row_wise=true` to remove the overhead.\n",
            "And if memory is not enough, you can set `force_col_wise=true`.\n",
            "[LightGBM] [Info] Total Bins 1150\n",
            "[LightGBM] [Info] Number of data points in the train set: 160084, number of used features: 52\n",
            "[LightGBM] [Info] Start training from score 10.861258\n",
            "Mejores parámetros: {'learning_rate': 0.1, 'max_depth': 10, 'n_estimators': 200}\n"
          ]
        }
      ]
    },
    {
      "cell_type": "markdown",
      "source": [
        "GridSearchCV prueba cada combinación posible de estos valores usando validación cruzada y nos devuelve la que obtuvo el mejor resultado promedio. Tras la búsqueda, los mejores parámetros encontrados fueron: `'learning_rate': 0.1`, `'max_depth': 10`, `'n_estimators': 200`"
      ],
      "metadata": {
        "id": "uyYZLhUXcCXA"
      }
    },
    {
      "cell_type": "code",
      "source": [
        "modelo_final = LGBMRegressor(\n",
        "    n_estimators=200,\n",
        "    max_depth=10,\n",
        "    learning_rate=0.1\n",
        ")"
      ],
      "metadata": {
        "id": "TPmME2-D5wQx"
      },
      "execution_count": 45,
      "outputs": []
    },
    {
      "cell_type": "markdown",
      "source": [
        "## Métricas"
      ],
      "metadata": {
        "id": "ewYISQJwdj6a"
      }
    },
    {
      "cell_type": "markdown",
      "source": [
        "En esta celda se entrena el modelo final LGBMRegressor con los datos de entrenamiento (`X_train, y_train`). Luego, se usan los datos de prueba (`X_test`) para hacer predicciones y evaluar el desempeño del modelo."
      ],
      "metadata": {
        "id": "3_Or2oIvdfKr"
      }
    },
    {
      "cell_type": "code",
      "source": [
        "modelo_final.fit(X_train, y_train)\n",
        "y_pred = modelo_final.predict(X_test)\n",
        "mse = mean_squared_error(y_test, y_pred)\n",
        "r2 = r2_score(y_test, y_pred)\n",
        "\n",
        "print(f\"Error cuadrático medio (MSE): {mse:.2f}\")\n",
        "print(f\"Coeficiente de determinación (R²): {r2:.2f}\")"
      ],
      "metadata": {
        "colab": {
          "base_uri": "https://localhost:8080/",
          "height": 0
        },
        "id": "q1D1PJxb5z3b",
        "outputId": "c6b0502c-ae37-4ed0-9d4f-476abe872993"
      },
      "execution_count": 46,
      "outputs": [
        {
          "output_type": "stream",
          "name": "stdout",
          "text": [
            "[LightGBM] [Warning] Found whitespace in feature_names, replace with underlines\n",
            "[LightGBM] [Info] Auto-choosing row-wise multi-threading, the overhead of testing was 0.003954 seconds.\n",
            "You can set `force_row_wise=true` to remove the overhead.\n",
            "And if memory is not enough, you can set `force_col_wise=true`.\n",
            "[LightGBM] [Info] Total Bins 1150\n",
            "[LightGBM] [Info] Number of data points in the train set: 160084, number of used features: 52\n",
            "[LightGBM] [Info] Start training from score 10.861258\n",
            "Error cuadrático medio (MSE): 22.50\n",
            "Coeficiente de determinación (R²): 0.97\n"
          ]
        }
      ]
    },
    {
      "cell_type": "markdown",
      "source": [
        "Los resultados de este modelo final son:\n",
        "\n",
        "* MSE: 24.75\n",
        "* R²: 0.96\n",
        "\n",
        "Con un R² del 96%, este modelo es el de mejor rendimiento de todos los que se probaron. Explica el 96% de la varianza en el rendimiento de los cultivos, y su MSE es el más bajo. Esto demuestra la superioridad de los algoritmos de gradient boosting como LightGBM para problemas de regresión complejos y tabulares como este."
      ],
      "metadata": {
        "id": "vzn9NyU1dmb-"
      }
    },
    {
      "cell_type": "markdown",
      "source": [
        "# Conclusión"
      ],
      "metadata": {
        "id": "9Vti7qQed7Je"
      }
    },
    {
      "cell_type": "markdown",
      "source": [
        "## ¿Qué notamos?\n",
        "\n",
        "El objetivo de este proyecto fue desarrollar y evaluar una serie de modelos de aprendizaje supervisado para predecir el rendimiento de diez cultivos.\n",
        "\n",
        "El proceso abarcó desde una rigurosa limpieza y preprocesamiento de los datos hasta el entrenamiento, ajuste de hiperparámetros y evaluación comparativa de cinco tipos de algoritmos distintos.\n",
        "\n",
        "\n",
        "El análisis comparativo reveló una clara diferencia en el rendimiento entre las familias de algoritmos probadas. Los modelos lineales (Ridge y Lasso) demostraron ser insuficientes para este problema, mientras que los modelos basados en árboles de decisión mostraron una capacidad predictiva muy superior.\n",
        "\n",
        "* LightGBM\n",
        " * 0.96. El mejor modelo por un margen significativo.\n",
        "* Árbol de Decisión\n",
        " * 0.95\tExcelente como modelo de referencia\n",
        "* K-Vecinos más Cercanos (KNN)\n",
        " * 0.74\tRendimiento bueno.\n",
        "* Red Neuronal\n",
        " * (MSE > 700) la arquitectura probada no fue la mejor y requiere un ajuste más profundo.\n",
        "* Ridge / Lasso\n",
        " * -0.0001\tRendimiento muy muy bajo. La relación de los datos es fuertemente no lineal."
      ],
      "metadata": {
        "id": "pSj2JRIWd_bi"
      }
    },
    {
      "cell_type": "markdown",
      "source": [
        "\n",
        "### El modelo LightGBM, implementado como el algoritmo adicional investigado, fue el mejor, alcanzando un coeficiente de determinación (`R²`) del 96% y el Error Cuadrático Medio (`MSE`) más bajo (24.75). Su éxito se atribuye a la técnica de gradient boosting, que construye árboles de forma secuencial, permitiendo que cada nuevo árbol corrija los errores de los anteriores y capture con gran eficacia las complejas interacciones no lineales presentes en los datos agrícolas\n",
        "\n",
        "\n",
        "\n",
        ".\n"
      ],
      "metadata": {
        "id": "3FNYz-qDmbmw"
      }
    },
    {
      "cell_type": "markdown",
      "source": [],
      "metadata": {
        "id": "l2J_8yQhmqGH"
      }
    },
    {
      "cell_type": "markdown",
      "source": [
        "."
      ],
      "metadata": {
        "id": "hM2PaUF0m1vH"
      }
    }
  ]
}